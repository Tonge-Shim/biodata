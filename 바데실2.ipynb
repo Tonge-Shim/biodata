{
  "nbformat": 4,
  "nbformat_minor": 0,
  "metadata": {
    "colab": {
      "name": "바데실2.ipynb",
      "provenance": [],
      "authorship_tag": "ABX9TyOkLnXJRA7AMBSADoMCJybJ",
      "include_colab_link": true
    },
    "kernelspec": {
      "name": "python3",
      "display_name": "Python 3"
    },
    "language_info": {
      "name": "python"
    }
  },
  "cells": [
    {
      "cell_type": "markdown",
      "metadata": {
        "id": "view-in-github",
        "colab_type": "text"
      },
      "source": [
        "<a href=\"https://colab.research.google.com/github/Tonge-Shim/biodata/blob/main/%EB%B0%94%EB%8D%B0%EC%8B%A42.ipynb\" target=\"_parent\"><img src=\"https://colab.research.google.com/assets/colab-badge.svg\" alt=\"Open In Colab\"/></a>"
      ]
    },
    {
      "cell_type": "markdown",
      "metadata": {
        "id": "9UCR3tQkElBT"
      },
      "source": [
        "#Mutable Sequence4월 1\n",
        "> Seq 객체는 \"read-only\".(immutable?) 그러나, 생명체의 진화는 돌연변이에서 출발한다. 따라서 MutalbleSeq 객체가 필요하다.\n",
        "\n",
        "\n",
        "```\n",
        "from Bio.Seq import MutableSeq\n",
        "mutable_seq = MutableSeq(\"GCCATTGCGTGAAAGGGTGCCCGA\")\n",
        "```\n",
        "\n"
      ]
    },
    {
      "cell_type": "code",
      "metadata": {
        "colab": {
          "base_uri": "https://localhost:8080/"
        },
        "id": "aVz_SJl5E2Zd",
        "outputId": "b4baae4b-f21c-4ae2-f119-a051f0433632"
      },
      "source": [
        "pip install biopython\n"
      ],
      "execution_count": 8,
      "outputs": [
        {
          "output_type": "stream",
          "text": [
            "Collecting biopython\n",
            "\u001b[?25l  Downloading https://files.pythonhosted.org/packages/3a/cd/0098eaff841850c01da928c7f509b72fd3e1f51d77b772e24de9e2312471/biopython-1.78-cp37-cp37m-manylinux1_x86_64.whl (2.3MB)\n",
            "\u001b[K     |████████████████████████████████| 2.3MB 15.0MB/s \n",
            "\u001b[?25hRequirement already satisfied: numpy in /usr/local/lib/python3.7/dist-packages (from biopython) (1.19.5)\n",
            "Installing collected packages: biopython\n",
            "Successfully installed biopython-1.78\n"
          ],
          "name": "stdout"
        }
      ]
    },
    {
      "cell_type": "code",
      "metadata": {
        "id": "seIWU4LTHcdW"
      },
      "source": [
        "import Bio\n",
        "from Bio.Seq import Seq"
      ],
      "execution_count": 10,
      "outputs": []
    },
    {
      "cell_type": "code",
      "metadata": {
        "colab": {
          "base_uri": "https://localhost:8080/"
        },
        "id": "0kMbZAKAHj_C",
        "outputId": "62a83c11-c0e4-44d3-8c11-46a1f706e3e9"
      },
      "source": [
        "myseq = Seq(\"GCTCATTCATGGGATC\")\n",
        "myseq"
      ],
      "execution_count": 11,
      "outputs": [
        {
          "output_type": "execute_result",
          "data": {
            "text/plain": [
              "Seq('GCTCATTCATGGGATC')"
            ]
          },
          "metadata": {
            "tags": []
          },
          "execution_count": 11
        }
      ]
    },
    {
      "cell_type": "code",
      "metadata": {
        "colab": {
          "base_uri": "https://localhost:8080/",
          "height": 169
        },
        "id": "nrnEvNtgHsdY",
        "outputId": "5ceed7d2-c4c2-4282-84f7-eb2f892e3d9d"
      },
      "source": [
        "myseq[3] = \"G\"# seq객체는 immutable 객체.수정이 불가능하다."
      ],
      "execution_count": 12,
      "outputs": [
        {
          "output_type": "error",
          "ename": "TypeError",
          "evalue": "ignored",
          "traceback": [
            "\u001b[0;31m---------------------------------------------------------------------------\u001b[0m",
            "\u001b[0;31mTypeError\u001b[0m                                 Traceback (most recent call last)",
            "\u001b[0;32m<ipython-input-12-b9241e8b3842>\u001b[0m in \u001b[0;36m<module>\u001b[0;34m()\u001b[0m\n\u001b[0;32m----> 1\u001b[0;31m \u001b[0mmyseq\u001b[0m\u001b[0;34m[\u001b[0m\u001b[0;36m3\u001b[0m\u001b[0;34m]\u001b[0m \u001b[0;34m=\u001b[0m \u001b[0;34m\"G\"\u001b[0m\u001b[0;34m\u001b[0m\u001b[0;34m\u001b[0m\u001b[0m\n\u001b[0m",
            "\u001b[0;31mTypeError\u001b[0m: 'Seq' object does not support item assignment"
          ]
        }
      ]
    },
    {
      "cell_type": "markdown",
      "metadata": {
        "id": "UC8zxMNULYdn"
      },
      "source": [
        "#3 Type Point Mutation\n",
        "* base substitution\n",
        "*deletion\n",
        "*insertion"
      ]
    },
    {
      "cell_type": "code",
      "metadata": {
        "colab": {
          "base_uri": "https://localhost:8080/"
        },
        "id": "-mAm4RupHzvD",
        "outputId": "5bee89de-53b3-4ea0-fd3e-cd915cbc9470"
      },
      "source": [
        "from Bio.Seq import MutableSeq\n",
        "mutable_seq = MutableSeq(\"GCCATTGCGTGAAAGGGTGCCCGA\")\n",
        "print(mutable_seq)\n",
        "mutable_seq[5]  = \"c\"\n",
        "print(mutable_seq)\n",
        "mutable_seq.remove(\"T\")#only the first T is removed.\n",
        "print(mutable_seq)\n",
        "mutable_seq.insert(4, \"T\")\n",
        "print(mutable_seq)\n",
        "#하나만 수정 가능한 point mutation ) .remove, .insert, [index]"
      ],
      "execution_count": 14,
      "outputs": [
        {
          "output_type": "stream",
          "text": [
            "GCCATTGCGTGAAAGGGTGCCCGA\n",
            "GCCATcGCGTGAAAGGGTGCCCGA\n",
            "GCCAcGCGTGAAAGGGTGCCCGA\n",
            "GCCATcGCGTGAAAGGGTGCCCGA\n"
          ],
          "name": "stdout"
        }
      ]
    },
    {
      "cell_type": "markdown",
      "metadata": {
        "id": "UuQkctElLhGk"
      },
      "source": [
        "#Good Mutation\n",
        "> *lactose tolerance*\n",
        "* helps digest lactose\n",
        "* A single point mutation in the DNA near to the lactose gene\n",
        "***Cytosine(C) nucleotide -> Thymine(T) nucleotide**\n",
        "* By a natural selection, this mutation keeps beneficial to human's environment\n",
        "\n",
        "#Bad Mutation\n",
        "> *Sickle cell disease*\n",
        "* ex) 낫 적혈구병: 산소공급 부족으로 인한 호흡곤란, 심한 빈혈, 혈전 증상Good Mutation\n",
        "* A blood disease caused by a point mutation\n",
        "* A single nucleotide is changed\n",
        "* **Adenine(A) nucleotide -> Thymine(T) nucleotide**\n",
        "* This causes the amino acid to change from Glutamic acid to Valine.\n",
        "*(GAG -> GTG : Glu -> Val)\n",
        "\n",
        "\n",
        "> *Dna sequence가 그만큼 중요하다.\n",
        "\n",
        ">*Marfan Syndrome*\n",
        "- disorder that affects the connective tissue in many parts of the body\n",
        "- Connective tissue provides strength and flexibility to structures such as bones, ligaments, muscles, blood vessels, and heart valves\n",
        "-ex) 평발, 긴 손가락, 긴 발가락, 큰 키 등 선천성 발육이상\n",
        "\n",
        "\n",
        "\n",
        "dna : atg, mrna: aug --> Met.\n",
        "aag --> Lys. 얘도 point  mutation. 염기서열 딱 하나만 변했으니까."
      ]
    },
    {
      "cell_type": "code",
      "metadata": {
        "id": "pvaTGJUuMe8Y"
      },
      "source": [
        ""
      ],
      "execution_count": null,
      "outputs": []
    }
  ]
}
