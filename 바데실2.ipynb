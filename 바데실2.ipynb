{
  "nbformat": 4,
  "nbformat_minor": 0,
  "metadata": {
    "colab": {
      "name": "바데실2.ipynb",
      "provenance": [],
      "authorship_tag": "ABX9TyOhpRsSzeZkBoQePyQzae7B",
      "include_colab_link": true
    },
    "kernelspec": {
      "name": "python3",
      "display_name": "Python 3"
    },
    "language_info": {
      "name": "python"
    }
  },
  "cells": [
    {
      "cell_type": "markdown",
      "metadata": {
        "id": "view-in-github",
        "colab_type": "text"
      },
      "source": [
        "<a href=\"https://colab.research.google.com/github/Tonge-Shim/biodata/blob/main/%EB%B0%94%EB%8D%B0%EC%8B%A42.ipynb\" target=\"_parent\"><img src=\"https://colab.research.google.com/assets/colab-badge.svg\" alt=\"Open In Colab\"/></a>"
      ]
    },
    {
      "cell_type": "markdown",
      "metadata": {
        "id": "9UCR3tQkElBT"
      },
      "source": [
        "#Mutable Sequence\n",
        "> Seq 객체는 \"read-only\".(immutable?) 그러나, 생명체의 진화는 돌연변이에서 출발한다. 따라서 MutalbleSeq 객체가 필요하다.\n",
        "\n",
        "\n",
        "```\n",
        "from Bio.Seq import MutableSeq\n",
        "mutable_seq = MutableSeq(\"GCCATTGCGTGAAAGGGTGCCCGA\")\n",
        "```\n",
        "\n"
      ]
    },
    {
      "cell_type": "code",
      "metadata": {
        "colab": {
          "base_uri": "https://localhost:8080/",
          "height": 134
        },
        "id": "aVz_SJl5E2Zd",
        "outputId": "5e3d29f2-f240-4368-f34e-49c6f1482e43"
      },
      "source": [
        "#복습\n",
        "install biopython"
      ],
      "execution_count": 7,
      "outputs": [
        {
          "output_type": "error",
          "ename": "SyntaxError",
          "evalue": "ignored",
          "traceback": [
            "\u001b[0;36m  File \u001b[0;32m\"<ipython-input-7-8613ce69824c>\"\u001b[0;36m, line \u001b[0;32m2\u001b[0m\n\u001b[0;31m    install biopython\u001b[0m\n\u001b[0m                    ^\u001b[0m\n\u001b[0;31mSyntaxError\u001b[0m\u001b[0;31m:\u001b[0m invalid syntax\n"
          ]
        }
      ]
    }
  ]
}