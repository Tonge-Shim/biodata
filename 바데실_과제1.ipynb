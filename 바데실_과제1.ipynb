{
  "nbformat": 4,
  "nbformat_minor": 0,
  "metadata": {
    "colab": {
      "name": "바데실 과제1.ipynb",
      "provenance": [],
      "history_visible": true,
      "authorship_tag": "ABX9TyN2wZ83BngsiG+WFvRamh3e",
      "include_colab_link": true
    },
    "kernelspec": {
      "name": "python3",
      "display_name": "Python 3"
    },
    "language_info": {
      "name": "python"
    }
  },
  "cells": [
    {
      "cell_type": "markdown",
      "metadata": {
        "id": "view-in-github",
        "colab_type": "text"
      },
      "source": [
        "<a href=\"https://colab.research.google.com/github/Tonge-Shim/biodata/blob/main/%EB%B0%94%EB%8D%B0%EC%8B%A4_%EA%B3%BC%EC%A0%9C1.ipynb\" target=\"_parent\"><img src=\"https://colab.research.google.com/assets/colab-badge.svg\" alt=\"Open In Colab\"/></a>"
      ]
    },
    {
      "cell_type": "code",
      "metadata": {
        "colab": {
          "base_uri": "https://localhost:8080/"
        },
        "id": "Br1fN8nPSy1g",
        "outputId": "05edb171-ea37-47ab-d9d5-8691f25715b7"
      },
      "source": [
        "pip install biopython"
      ],
      "execution_count": 5,
      "outputs": [
        {
          "output_type": "stream",
          "text": [
            "Collecting biopython\n",
            "\u001b[?25l  Downloading https://files.pythonhosted.org/packages/3a/cd/0098eaff841850c01da928c7f509b72fd3e1f51d77b772e24de9e2312471/biopython-1.78-cp37-cp37m-manylinux1_x86_64.whl (2.3MB)\n",
            "\u001b[K     |████████████████████████████████| 2.3MB 20.4MB/s \n",
            "\u001b[?25hRequirement already satisfied: numpy in /usr/local/lib/python3.7/dist-packages (from biopython) (1.19.5)\n",
            "Installing collected packages: biopython\n",
            "Successfully installed biopython-1.78\n"
          ],
          "name": "stdout"
        }
      ]
    },
    {
      "cell_type": "markdown",
      "metadata": {
        "id": "lktpMOQYSp0U"
      },
      "source": [
        "#1번"
      ]
    },
    {
      "cell_type": "code",
      "metadata": {
        "colab": {
          "base_uri": "https://localhost:8080/"
        },
        "id": "53dhvCiTS8Ez",
        "outputId": "76a7d041-8312-4475-fa0f-c701d12954a0"
      },
      "source": [
        "#각 염기의 빈도 계산하기\n",
        "seq = \"AGETDCAGTAGGTRACTGGTARDVD\"\n",
        "a=t=c=g=0\n",
        "n = len(seq)\n",
        "for s in seq:\n",
        "    if s == \"A\":\n",
        "        a+=1\n",
        "    elif s == \"T\":\n",
        "        t+=1\n",
        "    elif s == \"C\":\n",
        "        c+=1\n",
        "    elif s ==\"G\":\n",
        "        g+=1\n",
        "print(a/n*100,\"%\")\n",
        "print(t/n*100,\"%\")\n",
        "print(c/n*100,\"%\")\n",
        "print(g/n*100,\"%\")\n"
      ],
      "execution_count": 54,
      "outputs": [
        {
          "output_type": "stream",
          "text": [
            "20.0 %\n",
            "20.0 %\n",
            "8.0 %\n",
            "24.0 %\n"
          ],
          "name": "stdout"
        }
      ]
    },
    {
      "cell_type": "code",
      "metadata": {
        "colab": {
          "base_uri": "https://localhost:8080/"
        },
        "id": "iGZnXUHYU2lI",
        "outputId": "1b77756e-df53-461c-8563-b5a65527f224"
      },
      "source": [
        "#유효하지 않은 문자는 몇 개?\n",
        "i = 0\n",
        "for str in seq:\n",
        "    if str not in \"ATGC\":\n",
        "        i+=1\n",
        "print(i)"
      ],
      "execution_count": 55,
      "outputs": [
        {
          "output_type": "stream",
          "text": [
            "7\n"
          ],
          "name": "stdout"
        }
      ]
    },
    {
      "cell_type": "markdown",
      "metadata": {
        "id": "97rl0WIkVpG9"
      },
      "source": [
        "#2번"
      ]
    },
    {
      "cell_type": "code",
      "metadata": {
        "id": "qSFlnYaLS3iH"
      },
      "source": [
        "import Bio\n",
        "from Bio.Seq import Seq"
      ],
      "execution_count": 6,
      "outputs": []
    },
    {
      "cell_type": "code",
      "metadata": {
        "colab": {
          "base_uri": "https://localhost:8080/"
        },
        "id": "LE8W-wIoVv4c",
        "outputId": "6c5360cb-0b04-4e37-913c-006777ecc7d6"
      },
      "source": [
        "#coding strand object 정의\n",
        "dna = Seq(\"ATGGCCATTGTAATGGGCCGCTGAAAGGGTGCCCGATAG\")\n",
        "print(dna)\n",
        "#dna template strand object 생성\n",
        "template_dna = dna.reverse_complement()\n",
        "print(template_dna)\n",
        "# mrna object 생성\n",
        "messenger_rna1 = dna.transcribe()\n",
        "print(messenger_rna1)\n",
        "#또는\n",
        "messenger_rna2 = template_dna.reverse_complement().transcribe()\n",
        "print(messenger_rna2)"
      ],
      "execution_count": 9,
      "outputs": [
        {
          "output_type": "stream",
          "text": [
            "ATGGCCATTGTAATGGGCCGCTGAAAGGGTGCCCGATAG\n",
            "CTATCGGGCACCCTTTCAGCGGCCCATTACAATGGCCAT\n",
            "AUGGCCAUUGUAAUGGGCCGCUGAAAGGGUGCCCGAUAG\n",
            "AUGGCCAUUGUAAUGGGCCGCUGAAAGGGUGCCCGAUAG\n"
          ],
          "name": "stdout"
        }
      ]
    },
    {
      "cell_type": "code",
      "metadata": {
        "colab": {
          "base_uri": "https://localhost:8080/"
        },
        "id": "3JsuNvydcnl5",
        "outputId": "166392f4-fcbd-4f6a-9c3a-67a85522583f"
      },
      "source": [
        "#protein object\n",
        "protein = messenger_rna1.translate()\n",
        "print(protein)"
      ],
      "execution_count": 10,
      "outputs": [
        {
          "output_type": "stream",
          "text": [
            "MAIVMGR*KGAR*\n"
          ],
          "name": "stdout"
        }
      ]
    },
    {
      "cell_type": "markdown",
      "metadata": {
        "id": "mdCB7Z4Oc8SM"
      },
      "source": [
        "#3번"
      ]
    },
    {
      "cell_type": "code",
      "metadata": {
        "colab": {
          "base_uri": "https://localhost:8080/"
        },
        "id": "fCy8wVbxc7Y_",
        "outputId": "20dd555a-3045-4973-e365-abae95cbeaad"
      },
      "source": [
        "def sep(seq): # 문자열을 3개씩 분리하는 함수\n",
        "    n = len(seq)\n",
        "    list = [seq[i:i+3] for i in range(0, n, 3)]\n",
        "    return list\n",
        "#3개의 염기서열을 아미노산 알파벳 하나로 바꿔서 알파벳 하나를 반환하는 함수.\n",
        "def translate(str):\n",
        "    if str in [\"TTT\", \"TTC\"]:\n",
        "        return \"F\"\n",
        "    elif str in [\"TTA\", \"TTG\", \"CTT\", \"CTC\", \"CTA\", \"CTG\"]:\n",
        "        return \"L\"\n",
        "    elif str in [\"ATT\", \"ATC\", \"ATA\"]:\n",
        "        return \"I\"\n",
        "    elif str in [\"ATG\"]:\n",
        "        return \"M\"\n",
        "    elif str in [\"GTT\", \"GTC\", \"GTA\", \"GTG\"]:\n",
        "        return \"V\"\n",
        "    elif str in [\"TCT\", \"TCC\", \"TCA\", \"TCG\", \"AGT\", \"AGC\"]:\n",
        "        return \"S\"\n",
        "    elif str in [\"CCT\", \"CCC\", \"CCA\", \"CCG\"]:\n",
        "        return \"P\"\n",
        "    elif str in [\"ACT\", \"ACC\", \"ACA\", \"ACG\"]:\n",
        "        return \"T\"\n",
        "    elif str in [\"GCT\", \"GCC\", \"GCA\", \"GCG\"]:\n",
        "        return \"A\"\n",
        "    elif str in [\"TAT\", \"TAC\"]:\n",
        "        return \"Y\"\n",
        "    elif str in [\"CAT\", \"CAC\"]:\n",
        "        return \"H\"\n",
        "    elif str in [\"CAA\", \"CAG\"]:\n",
        "        return \"Q\"\n",
        "    elif str in [\"AAT\", \"AAC\"]:\n",
        "        return \"N\"\n",
        "    elif str in [\"AAA\", \"AAG\"]:\n",
        "        return \"K\"\n",
        "    elif str in [\"GAT\", \"GAC\"]:\n",
        "        return \"D\"\n",
        "    elif str in [\"GAA\", \"GAG\"]:\n",
        "        return \"E\"\n",
        "    elif str in [\"TGT\", \"TGC\"]:\n",
        "        return \"C\"\n",
        "    elif str in [\"TGG\"]:\n",
        "        return \"W\"\n",
        "    elif str in [\"CGT\", \"CGC\", \"CGA\", \"CGG\", \"AGA\", \"AGG\"]:\n",
        "        return \"R\"\n",
        "    elif str in [\"AGT\", \"AGC\"]:\n",
        "        return \"S\"\n",
        "    elif str in [\"GCT\", \"GGC\", \"GGA\", \"GGG\"]:\n",
        "        return \"G\"\n",
        "\n",
        "seq3 = \"AGCTTTCGATCGGATCGGAAATCGCTAGCTAGCATC\"\n",
        "separated = sep(seq3)\n",
        "translated = []\n",
        "for i in separated:\n",
        "    k = translate(i)\n",
        "    translated.append(k)\n",
        "print(translated)"
      ],
      "execution_count": 50,
      "outputs": [
        {
          "output_type": "stream",
          "text": [
            "['S', 'F', 'R', 'S', 'D', 'R', 'K', 'S', 'L', 'A', 'S', 'I']\n"
          ],
          "name": "stdout"
        }
      ]
    },
    {
      "cell_type": "code",
      "metadata": {
        "id": "_EirHHd0eHYe",
        "colab": {
          "base_uri": "https://localhost:8080/"
        },
        "outputId": "0aede86d-b5d4-4602-de3f-688ede36787b"
      },
      "source": [
        "dict = {}\n",
        "for k in translated:\n",
        "    dict[k] = dict.setdefault(k,0) + 1\n",
        "dict "
      ],
      "execution_count": 52,
      "outputs": [
        {
          "output_type": "execute_result",
          "data": {
            "text/plain": [
              "{'A': 1, 'D': 1, 'F': 1, 'I': 1, 'K': 1, 'L': 1, 'R': 2, 'S': 4}"
            ]
          },
          "metadata": {
            "tags": []
          },
          "execution_count": 52
        }
      ]
    }
  ]
}