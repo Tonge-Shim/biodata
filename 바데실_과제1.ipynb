{
  "nbformat": 4,
  "nbformat_minor": 0,
  "metadata": {
    "colab": {
      "name": "바데실 과제1.ipynb",
      "provenance": [],
      "authorship_tag": "ABX9TyN9Q7qbEbjCuTYBNlnik6wS",
      "include_colab_link": true
    },
    "kernelspec": {
      "name": "python3",
      "display_name": "Python 3"
    },
    "language_info": {
      "name": "python"
    }
  },
  "cells": [
    {
      "cell_type": "markdown",
      "metadata": {
        "id": "view-in-github",
        "colab_type": "text"
      },
      "source": [
        "<a href=\"https://colab.research.google.com/github/Tonge-Shim/biodata/blob/main/%EB%B0%94%EB%8D%B0%EC%8B%A4_%EA%B3%BC%EC%A0%9C1.ipynb\" target=\"_parent\"><img src=\"https://colab.research.google.com/assets/colab-badge.svg\" alt=\"Open In Colab\"/></a>"
      ]
    },
    {
      "cell_type": "code",
      "metadata": {
        "colab": {
          "base_uri": "https://localhost:8080/"
        },
        "id": "Br1fN8nPSy1g",
        "outputId": "4c86e659-a27c-43e5-9567-6cbfc095103e"
      },
      "source": [
        "pip install biopython"
      ],
      "execution_count": 1,
      "outputs": [
        {
          "output_type": "stream",
          "text": [
            "Collecting biopython\n",
            "\u001b[?25l  Downloading https://files.pythonhosted.org/packages/3a/cd/0098eaff841850c01da928c7f509b72fd3e1f51d77b772e24de9e2312471/biopython-1.78-cp37-cp37m-manylinux1_x86_64.whl (2.3MB)\n",
            "\u001b[K     |████████████████████████████████| 2.3MB 5.7MB/s \n",
            "\u001b[?25hRequirement already satisfied: numpy in /usr/local/lib/python3.7/dist-packages (from biopython) (1.19.5)\n",
            "Installing collected packages: biopython\n",
            "Successfully installed biopython-1.78\n"
          ],
          "name": "stdout"
        }
      ]
    },
    {
      "cell_type": "markdown",
      "metadata": {
        "id": "lktpMOQYSp0U"
      },
      "source": [
        "#1번"
      ]
    },
    {
      "cell_type": "code",
      "metadata": {
        "id": "qSFlnYaLS3iH"
      },
      "source": [
        "import Bio\n",
        "from Bio.Seq import Seq"
      ],
      "execution_count": 2,
      "outputs": []
    },
    {
      "cell_type": "code",
      "metadata": {
        "colab": {
          "base_uri": "https://localhost:8080/"
        },
        "id": "53dhvCiTS8Ez",
        "outputId": "f9c63fe7-7b70-483e-da82-8fed632cbf63"
      },
      "source": [
        "#각 염기의 빈도 계산하기\n",
        "seq = Seq(\"AGETDCAGTAGGTRACTGGTARDVD\")\n",
        "print(seq.count(\"A\"))\n",
        "print(seq.count(\"T\"))\n",
        "print(seq.count(\"G\"))\n",
        "print(seq.count(\"C\"))\n"
      ],
      "execution_count": 4,
      "outputs": [
        {
          "output_type": "stream",
          "text": [
            "5\n",
            "5\n",
            "6\n",
            "2\n"
          ],
          "name": "stdout"
        }
      ]
    },
    {
      "cell_type": "code",
      "metadata": {
        "colab": {
          "base_uri": "https://localhost:8080/"
        },
        "id": "iGZnXUHYU2lI",
        "outputId": "1aebe8f6-7b9a-4d5f-a4af-3a6ddb55d0f2"
      },
      "source": [
        "#유효하지 않은 문자는 몇 개?\n",
        "i = 0\n",
        "for str in seq:\n",
        "    if str not in \"ATGC\":\n",
        "        i+=1\n",
        "print(i)"
      ],
      "execution_count": 11,
      "outputs": [
        {
          "output_type": "stream",
          "text": [
            "7\n"
          ],
          "name": "stdout"
        }
      ]
    },
    {
      "cell_type": "markdown",
      "metadata": {
        "id": "97rl0WIkVpG9"
      },
      "source": [
        "#2번"
      ]
    },
    {
      "cell_type": "code",
      "metadata": {
        "colab": {
          "base_uri": "https://localhost:8080/"
        },
        "id": "LE8W-wIoVv4c",
        "outputId": "4822b69a-345a-4606-83e8-3893e0afcd3b"
      },
      "source": [
        "#coding strand object 정의\n",
        "dna = Seq(\"ATGGCCATTGTAATGGGCCGCTGAAAGGGTGCCCGATAG\")\n",
        "print(dna)\n",
        "#dna template strand object 생성\n",
        "template_dna = dna.reverse_complement()\n",
        "print(template_dna)\n",
        "# mrna object 생성\n",
        "messenger_rna1 = dna.transcribe()\n",
        "print(messenger_rna1)\n",
        "#또는\n",
        "messenger_rna2 = template_dna.reverse_complement().transcribe()\n",
        "print(messenger_rna2)"
      ],
      "execution_count": 13,
      "outputs": [
        {
          "output_type": "stream",
          "text": [
            "ATGGCCATTGTAATGGGCCGCTGAAAGGGTGCCCGATAG\n",
            "CTATCGGGCACCCTTTCAGCGGCCCATTACAATGGCCAT\n",
            "AUGGCCAUUGUAAUGGGCCGCUGAAAGGGUGCCCGAUAG\n",
            "AUGGCCAUUGUAAUGGGCCGCUGAAAGGGUGCCCGAUAG\n"
          ],
          "name": "stdout"
        }
      ]
    },
    {
      "cell_type": "code",
      "metadata": {
        "colab": {
          "base_uri": "https://localhost:8080/"
        },
        "id": "3JsuNvydcnl5",
        "outputId": "9a243c04-a9b2-4851-eb72-3c5ab7857570"
      },
      "source": [
        "#protein object\n",
        "protein = messenger_rna1.translate()\n",
        "print(protein)"
      ],
      "execution_count": 14,
      "outputs": [
        {
          "output_type": "stream",
          "text": [
            "MAIVMGR*KGAR*\n"
          ],
          "name": "stdout"
        }
      ]
    },
    {
      "cell_type": "markdown",
      "metadata": {
        "id": "mdCB7Z4Oc8SM"
      },
      "source": [
        "#3번"
      ]
    },
    {
      "cell_type": "code",
      "metadata": {
        "colab": {
          "base_uri": "https://localhost:8080/"
        },
        "id": "fCy8wVbxc7Y_",
        "outputId": "b1b3ed62-2b1d-4d00-ca58-7c76e32ae25c"
      },
      "source": [
        "seq3 = Seq(\"AGCTTTCGATCGGATCGGAAATCGCTAGCTAGCATC\")\n",
        "translate = seq3.translate()\n",
        "translate"
      ],
      "execution_count": 18,
      "outputs": [
        {
          "output_type": "execute_result",
          "data": {
            "text/plain": [
              "Seq('SFRSDRKSLASI')"
            ]
          },
          "metadata": {
            "tags": []
          },
          "execution_count": 18
        }
      ]
    },
    {
      "cell_type": "code",
      "metadata": {
        "id": "_EirHHd0eHYe"
      },
      "source": [
        "dict = {}\n",
        "for k in translate:\n",
        "    dict[k] = dict.setdefault(k,0) + 1\n"
      ],
      "execution_count": 23,
      "outputs": []
    },
    {
      "cell_type": "code",
      "metadata": {
        "colab": {
          "base_uri": "https://localhost:8080/"
        },
        "id": "3k8IbcOlfDCU",
        "outputId": "11868285-dd7b-4b15-d1de-6dd205861592"
      },
      "source": [
        "dict"
      ],
      "execution_count": 25,
      "outputs": [
        {
          "output_type": "execute_result",
          "data": {
            "text/plain": [
              "{'A': 1, 'D': 1, 'F': 1, 'I': 1, 'K': 1, 'L': 1, 'R': 2, 'S': 4}"
            ]
          },
          "metadata": {
            "tags": []
          },
          "execution_count": 25
        }
      ]
    }
  ]
}