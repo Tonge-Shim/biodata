{
  "nbformat": 4,
  "nbformat_minor": 0,
  "metadata": {
    "colab": {
      "name": "바데실 4월 15일",
      "provenance": [],
      "authorship_tag": "ABX9TyMTL1MjSS0u6K/lJQxZLE5q",
      "include_colab_link": true
    },
    "kernelspec": {
      "name": "python3",
      "display_name": "Python 3"
    },
    "language_info": {
      "name": "python"
    }
  },
  "cells": [
    {
      "cell_type": "markdown",
      "metadata": {
        "id": "view-in-github",
        "colab_type": "text"
      },
      "source": [
        "<a href=\"https://colab.research.google.com/github/Tonge-Shim/biodata/blob/main/%EB%B0%94%EB%8D%B0%EC%8B%A4_4%EC%9B%94_15%EC%9D%BC.ipynb\" target=\"_parent\"><img src=\"https://colab.research.google.com/assets/colab-badge.svg\" alt=\"Open In Colab\"/></a>"
      ]
    },
    {
      "cell_type": "markdown",
      "metadata": {
        "id": "RO7FZdPPYqqa"
      },
      "source": [
        "#Pattern Matching in Sequence Data\n",
        "* Heuristics\n",
        "    *  발견법이라고도 부르는데, **불충분한 시간이나 정보로 인하여 합리적인 판단을 할 수 없거나, 체계적이면서 합리적인 판단이 굳이 필요하지 않은 상황에서** 사람들이 빠르게 사용할 수 있게 보다 **용이하게 구성된 간편추론의 방법**을 일컫는다.   \n",
        "    *  복잡하고 어려운 문제(NP problem)를 풀 때 사용하는 접근법으로, \n",
        "    * 문제를 간단한 형태로  단순화시킨 후에 해결답안을 찾는 방법\n",
        "\n",
        "    * 문제를 더 빨리 해결하기 위한 근사적인 해결책\n",
        "\n",
        "    * AI 에서 사용되는 많은 알고리즘들이 이에 속함. \n",
        "\n",
        "    * genetic algorithm\n",
        "    * simulated annealing\n",
        "    * tabu search\n",
        "\n",
        "* The Boyer-Moore String Search Algorithm\n",
        "    * Developed by Robert Boyer and  J. Strother Moore in 1977\n",
        "    * 여러 문자열 패턴 검색 알고리즘 중에서 표준이 되는 효율적인 알고리즘으로 널리 사용됨. \n",
        "\n",
        "    * 패턴의 구조를 이용해 검색속도를 향상시킴.\n",
        "\n",
        "    * 알고리즘의 주요 특징은 패턴 문자열(P)의 머리가 아닌 패턴의 꼬리에서 일치하고 텍스트 문자열(T)의 모든 단일 문자를 검색하는 대신 여러 문자의 점프로 텍스트를 건너 뛰는 것임. \n",
        "    * \"역방향“ 접근 방식을 취함:  패턴 문자열 (P)은 텍스트 \n",
        "문자열 (T)의 시작 부분에 정렬 된 다음, 가장 오른쪽 문자부터 \n",
        "시작하여 패턴의 문자를 오른쪽에서 왼쪽으로 비교함. \n",
        "\n",
        "    * 패턴 내에 없는 문자를 비교하는 경우, 이 위치에서는 추가 \n",
        "문자를 비교하여 일치를 찾을 수 없으므로 패턴이 일치하지 않는 문자를 완전히 지나서 이동할 수 있음.\n",
        "\n",
        "    * 가능한 이동을 결정하기 위해, 이 알고리즘은 2 가지 전처리(Preprocessing) 전략을 동시에 사용함. 불일치가 발생할 때마다 \n",
        "알고리즘은 두 전략을 사용하여 이동(Shift)을 계산하고 더 큰 이동을 선택함. 따라서 각 개별 사례에 대해 가장 효율적인 전략을 사용함. \n",
        "    * 2가지 패턴(P)의  전처리 전략이 텍스트 문자열(T)내에서의 탐색 과정의 계산비용을 줄여주는데 이용되기 때문에, 이 전략을 “Heuristic of B-M” 이라고 부르기도 함. \n",
        "\n",
        "\n",
        "        - Bad Character Heuristic\n",
        "        - Good Suffix Heuristic\n",
        "\n",
        "# Bad Character Heuristic\n",
        "    * 패턴을 전처리하고, 알파벳 갯수와 같은 크기의 배열에 모든 가능한 문자의  마지막 occurrence 를 저장함. \n",
        "    * 패턴P의 문자가 T에 전혀 존재하지 않으면, 패턴은 길이k만큼 shift함. \n",
        "\n",
        "    * Best Case 계산복잡도 : O(N/k)\n",
        "        * 텍스트 T의 모든 문자와 패턴P의 모든문자가 다를때 일어남.\n",
        "     T = “AAAAAAAAAAAAAAAAAAAAAAAAAA”,  P =  “CCGGT”\n",
        "\n",
        "\n",
        "    * Worst Case 계산복잡도: O(Nk)\n",
        "        * 텍스트 T의 모든 문자와 패턴P의 모든문자가 같을때 일어남.\n",
        "      T=“AAAAAAAAAAAAAAAAAAAAAAAAAA”,  P = “AAAAA”\n",
        "\n",
        "# Good Suffix Heuristic\n",
        "    * 패턴 P 의 substring 과 match 하는 텍스트 T의 substring t 가 있다고 가정하자.\n",
        "    * 패턴 p를 shift 하는 3가지 경우:\n",
        "        1. Another occurence of t in P matched with t in T\n",
        "        2. A prefix of P, which, matches with suffix of t\n",
        "        3. P moves past t\n",
        "\n",
        "# The Boyer-Moore String Search Algorithm 계산 비용\n",
        "    * 텍스트 T를 탐색하기 전에 패턴 P의 전처리가 수행됨.\n",
        "    * 패턴 전처리에 계산비용이 들지만, 일반적으로 패턴 P의 길이가 텍스트 T의 길이보다 훨씬 작기때문에 텍스트 T 전체의 탐색과정에서 발생하는 계산비용보다 큰 이득을 얻을 수 있음.\n",
        "\n"
      ]
    },
    {
      "cell_type": "code",
      "metadata": {
        "id": "pHf8W8MKzGYE"
      },
      "source": [
        "#지난시간에 배운 코드\n",
        "def search_first_occ(seq, pattern):\n",
        "    found = False\n",
        "    i = 0\n",
        "    while i <= len(seq)-len(pattern) and not found:\n",
        "        j = 0\n",
        "        while j < len(pattern) and pattern[j] == seq[i+j]: # j가 패턴의 길이보다 아직 짧고 패턴의 j번째와 seq의 i+j번째글자가 같다면\n",
        "            j = j + 1                                      # j를 하나 증가시켜서 패턴의 다음 글자와 비교\n",
        "        if j == len(pattern): found = True                 # 만약 패턴의 모든 글자와 i번부터 i+j까지의 글자가 같다면, found를 true로!\n",
        "        else: i += 1                                       # 그게 아니면 i하나 증가시켜서 다시 반복.\n",
        "    if found: return i                                     # found가 true이면 위치를 반환.\n",
        "    else: return -1                                        #이 함수는 found가 true가 되면 바로 반복문을 빠져나오므로 최초로 발견된 위치가 반환될 것이다.\n",
        "\n",
        "def search_all_occurrences(seq, pattern):\n",
        "    res = []\n",
        "    for i in range(len(seq)-len(pattern)+1):# i는 0부터 전체 길이에서 패턴길이 뺀 위치까지, \n",
        "        j = 0                           \n",
        "        while j < len(pattern) and pattern[j] == seq[i+j]:  #j가 패턴의 길이보다 작고, 패턴이 seq 의 i+j와 같을때,\n",
        "            j = j +1                                        #j는 1 증가\n",
        "        if j == len(pattern):                               # j가 패턴의 길이와 같으면, \n",
        "            res.append(i)                                   # res리스트에 패턴이 시작하는 위치 i를 append\n",
        "    return res                                              # 위치i를 모은 리스트 반환\n"
      ],
      "execution_count": null,
      "outputs": []
    },
    {
      "cell_type": "code",
      "metadata": {
        "id": "h-GdBsi40vpU"
      },
      "source": [
        "class BoyerMoore:\n",
        "    \n",
        "    def __init__(self, alphabet, pattern):\n",
        "        self.alphabet = alphabet\n",
        "        self.pattern = pattern\n",
        "        self.preprocess()\n",
        "\n",
        "    def preprocess(self):\n",
        "        self.process_bcr()\n",
        "        self.process_gsr()\n",
        "\n",
        "# Bad Character Heuristic\n",
        "        \n",
        "    def process_bcr(self):  \t\t\n",
        "        self.occ = {}\n",
        "        for symb in self.alphabet:\n",
        "            self.occ[symb] = -1     #문자열에 있는 모든 문자들을 읽어서 사전에 넣어서 -1로 초기화\n",
        "        for j in range(len(self.pattern)):#패턴의 길이만큼 반복, \n",
        "            c = self.pattern[j]           #c는 패턴의 j번째 글자\n",
        "            self.occ[c] = j               #패턴의 atcg의 마지막 글자들의 위치를 사전에 저장\n",
        "\n",
        " # Good Suffix Heuristic\n",
        "           \n",
        "    def process_gsr(self):\n",
        "        self.f = [0] * (len(self.pattern)+1)    #리스트 생성, 패턴길이 + 1.\n",
        "        self.s = [0] * (len(self.pattern)+1)    #리스트 생성, 패턴길이 + 1.\n",
        "        i = len(self.pattern)                   #i는 패턴의 길이\n",
        "        j = len(self.pattern)+1                 #j는 패턴의 길이 + 1\n",
        "        self.f[i] = j                                   \n",
        "        while i>0:\n",
        "            while j<= len(self.pattern) and self.pattern[i-1] != self.pattern[j-1]:\n",
        "                if self.s[j] == 0: self.s[j] = j-i;\n",
        "                j = self.f[j]\n",
        "            i -= 1\n",
        "            j -= 1#우선 j 1 빼고 시작.\n",
        "            self.f[i] = j  \n",
        "        j = self.f[0]\n",
        "        for i in range(len(self.pattern)):\n",
        "            if self.s[i] == 0: self.s[i] = j\n",
        "            if i == j: j = self.f[j]\n",
        " \n",
        "#   max(self.s[j+1], j- self.occ[c]) 에서 더 큰 shift 선택\n",
        "\n",
        "    def search_pattern(self, text):\n",
        "        res = []\n",
        "        i = 0\n",
        "        while i <= len(text) - len(self.pattern):\n",
        "            j= len(self.pattern)- 1\n",
        "            while j>=0 and self.pattern[j]==text[j+i]: j -= 1 \n",
        "            if (j<0):\n",
        "                res.append(i)\n",
        "                i += self.s[0]\n",
        "            else:\n",
        "                c = text[j+i]            \n",
        "                i += max(self.s[j+1], j- self.occ[c])\n",
        "        return res\n"
      ],
      "execution_count": 8,
      "outputs": []
    },
    {
      "cell_type": "code",
      "metadata": {
        "id": "JWz0lRRW98zN"
      },
      "source": [
        "def test_pattern_search():\n",
        "    seq = \"acgcagcgattatatatatgatgctagtagcgat\"\n",
        "    pat = \"atgc\"\n",
        "    print(pat, \"occurs in the following positions: \",)\n",
        "    bm = BoyerMoore(\"ACTG\", pat)\n",
        "    print(bm.search_pattern(seq))\n"
      ],
      "execution_count": 9,
      "outputs": []
    },
    {
      "cell_type": "code",
      "metadata": {
        "id": "8gHAd_8a-v_z",
        "outputId": "50d563b4-602f-4b67-dd84-572df368cb3b",
        "colab": {
          "base_uri": "https://localhost:8080/"
        }
      },
      "source": [
        "test_pattern_search()"
      ],
      "execution_count": 10,
      "outputs": [
        {
          "output_type": "stream",
          "text": [
            "atgc occurs in the following positions: \n",
            "[20]\n"
          ],
          "name": "stdout"
        }
      ]
    },
    {
      "cell_type": "code",
      "metadata": {
        "id": "VV0weO95st5k",
        "outputId": "41ea99b2-2d6d-4684-a294-540a37703732",
        "colab": {
          "base_uri": "https://localhost:8080/"
        }
      },
      "source": [
        "class Automata:\n",
        "\n",
        "       def __init__(self, alphabet, pattern):\n",
        "          self.numstates = len(pattern) + 1\n",
        "          self.alphabet = alphabet\n",
        "          self.transition_table =  {}\n",
        "          self.build_transition_table(pattern)\n",
        "\n",
        "       def build_transition_table(self, pattern):\n",
        "          for q in range(self.numstates):\n",
        "              for a in self.alphabet:\n",
        "                  prefix = pattern[0:q] + a\n",
        "                  self.transition_table[(q,a)] = overlap(prefix, pattern)\n",
        "\n",
        "       def print_automata(self):\n",
        "          print(\"States: \", self.numstates)\n",
        "          print(\"Alphabet: \", self.alphabet)\n",
        "          print(\"Transition table:\")\n",
        "          for k in self.transition_table.keys():\n",
        "              print(k[0], \",\", k[1], \"->\", self.transition_table[k])\n",
        "\n",
        "       def next_state(self, current, symbol):\n",
        "          return self.transition_table.get((current, symbol))\n",
        "              \n",
        "\n",
        "       def apply_seq(self, seq):\n",
        "          q = 0\n",
        "          res = [q]\n",
        "          for c in seq:\n",
        "              q = self.next_state(q,c)\n",
        "              res.append(q)\n",
        "          return res\n",
        "\n",
        "       def occurences_pattern(self, text):\n",
        "          q = 0\n",
        "          res = []\n",
        "          for i in range(len(text)):\n",
        "              q = self.next_state(q, text[i])\n",
        "              if q == self.numstates-1:\n",
        "                  res.append(i - self.numstates + 2)\n",
        "          return res\n",
        "\n",
        "def overlap(s1, s2):\n",
        "    maxov = min(len(s1), len(s2))\n",
        "    for i in range(maxov, 0, -1):\n",
        "          if s1[-i:] == s2[:i]:\n",
        "             return i\n",
        "    return 0 \n",
        "  \n",
        "def test():\n",
        "    auto = Automata(\"ACGT\", \"ACA\")\n",
        "    auto.print_automata()\n",
        "    print(auto.apply_seq(\"CACAACAA\"))\n",
        "    print(auto.occurences_pattern(\"CACAACAA\"))\n",
        "\n",
        "test()\n"
      ],
      "execution_count": 1,
      "outputs": [
        {
          "output_type": "stream",
          "text": [
            "States:  4\n",
            "Alphabet:  ACGT\n",
            "Transition table:\n",
            "0 , A -> 1\n",
            "0 , C -> 0\n",
            "0 , G -> 0\n",
            "0 , T -> 0\n",
            "1 , A -> 1\n",
            "1 , C -> 2\n",
            "1 , G -> 0\n",
            "1 , T -> 0\n",
            "2 , A -> 3\n",
            "2 , C -> 0\n",
            "2 , G -> 0\n",
            "2 , T -> 0\n",
            "3 , A -> 1\n",
            "3 , C -> 2\n",
            "3 , G -> 0\n",
            "3 , T -> 0\n",
            "[0, 0, 1, 2, 3, 1, 2, 3, 1]\n",
            "[1, 4]\n"
          ],
          "name": "stdout"
        }
      ]
    }
  ]
}