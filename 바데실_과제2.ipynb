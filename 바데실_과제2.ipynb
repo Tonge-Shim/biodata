{
  "nbformat": 4,
  "nbformat_minor": 0,
  "metadata": {
    "colab": {
      "name": "바데실 과제2.ipynb",
      "provenance": [],
      "history_visible": true,
      "authorship_tag": "ABX9TyPkxKAz8nyWpPZPHCe2WDLw",
      "include_colab_link": true
    },
    "kernelspec": {
      "name": "python3",
      "display_name": "Python 3"
    },
    "language_info": {
      "name": "python"
    }
  },
  "cells": [
    {
      "cell_type": "markdown",
      "metadata": {
        "id": "view-in-github",
        "colab_type": "text"
      },
      "source": [
        "<a href=\"https://colab.research.google.com/github/Tonge-Shim/biodata/blob/main/%EB%B0%94%EB%8D%B0%EC%8B%A4_%EA%B3%BC%EC%A0%9C2.ipynb\" target=\"_parent\"><img src=\"https://colab.research.google.com/assets/colab-badge.svg\" alt=\"Open In Colab\"/></a>"
      ]
    },
    {
      "cell_type": "code",
      "metadata": {
        "id": "sEKh0CJMKQ95"
      },
      "source": [
        "import re\n",
        "from re import finditer"
      ],
      "execution_count": null,
      "outputs": []
    },
    {
      "cell_type": "code",
      "metadata": {
        "id": "mfz7yVV0KURu"
      },
      "source": [
        "def findpat(seq, pat):\n",
        "    list = []\n",
        "    iter = pat.finditer(seq)\n",
        "    for x in iter:\n",
        "        list.append([x.span(), x.group()])\n",
        "\n",
        "    return list"
      ],
      "execution_count": null,
      "outputs": []
    },
    {
      "cell_type": "code",
      "metadata": {
        "colab": {
          "base_uri": "https://localhost:8080/"
        },
        "id": "_qm7r1CDN69t",
        "outputId": "669efa06-2ba0-4d61-e666-14c4357122a3"
      },
      "source": [
        "print(\"our pattern: GT...TACTAAC...AC\")\n",
        "seq = input(\"write any DNA sequence : \")\n",
        "pat = re.compile('GT...TACTAAC...AC')\n",
        "\n",
        "list = findpat(seq, pat)\n",
        "if(len(list)>0):\n",
        "    print(\"pattern's span, group: \", list)\n",
        "else:\n",
        "    print(\"no pattern exists\")"
      ],
      "execution_count": null,
      "outputs": [
        {
          "output_type": "stream",
          "text": [
            "our pattern: GT...TACTAAC...AC\n",
            "write any DNA sequence : GTAAATACTAACGGGACGTSRSTACTAACGGGACACACACCC\n",
            "pattern's span, group:  [[(0, 17), 'GTAAATACTAACGGGAC'], [(17, 34), 'GTSRSTACTAACGGGAC']]\n"
          ],
          "name": "stdout"
        }
      ]
    },
    {
      "cell_type": "code",
      "metadata": {
        "colab": {
          "base_uri": "https://localhost:8080/"
        },
        "id": "FDRA6cnWeGJW",
        "outputId": "ff276004-dbab-476d-a223-0e58e133c60b"
      },
      "source": [
        "from re import search\n",
        "from re import finditer\n",
        "\n",
        "def  find_motif(seq):\n",
        "\n",
        "    regexp = \"Y..F[YT]\"\n",
        "    mo = search(regexp, seq)\n",
        "    if( mo != None):\n",
        "        return mo.span()[0]\n",
        "    else:\n",
        "        return -1\n",
        "\n",
        "def find_pat_span(seq):\n",
        "    regexp = \"Y..F[YT]\"\n",
        "    mo = search(regexp, seq)\n",
        "    list = []\n",
        "    list.append(mo.group())\n",
        "    list.append(mo.span()[0])\n",
        "    ans = tuple(list)\n",
        "    return ans\n",
        "\n",
        "def test():\n",
        "     seq = \"dYdsFYljsd\"\n",
        "     print(find_motif(seq))#1번\n",
        "     print(find_pat_span(seq))#2번\n",
        "\n",
        "test()"
      ],
      "execution_count": null,
      "outputs": [
        {
          "output_type": "stream",
          "text": [
            "1\n",
            "('YdsFY', 1)\n"
          ],
          "name": "stdout"
        }
      ]
    },
    {
      "cell_type": "markdown",
      "metadata": {
        "id": "OKGw-eONmk_4"
      },
      "source": [
        ">sp|P27747|ACOX_RALEH Acetoin catabolism protein X OS=Ralstonia eutropha (strain ATCC 17699 / H16 / DSM 428 / Stanier 337) GN=acoX PE=4 SV=2\n",
        "\n",
        "{'id':  'P27747'  , 'Entry':  'ACOX_RALEH'  , 'Protein':  'Acetoin catabolism protein X'   , 'OS':~, ...} \n",
        "\n",
        "\\([a-z]*\\s[A-Z]*\\s[0-9]*\\s\\/\\s[A-Z0-9]*\\s\\/\\s[A-Z]*\\s[0-9]*\\s\\/\\s[A-Za-z]\\s[0-9]*\\)"
      ]
    },
    {
      "cell_type": "code",
      "metadata": {
        "id": "0ksW1Jfbja36",
        "colab": {
          "base_uri": "https://localhost:8080/"
        },
        "outputId": "0e846015-b85b-4001-aeff-b9bbfa5854bc"
      },
      "source": [
        "def handle_uniprot_header (header):\n",
        "    \n",
        "    key = ['id', 'Entry', 'Protein', 'OS', 'GN', 'PE', 'SV']\n",
        "    regex = re.compile(r'[a-z]{2}\\|([A-Z]\\d{5})\\|([A-Z]*_[A-Z]*)\\s([A-Za-z]*\\s[A-Za-z]*\\s[A-Za-z]*\\s[A-Z])\\sOS=([A-Za-z]*\\s[A-Za-z]*)\\sGN=([a-zA-Z]*)\\sPE=(\\d)\\sSV=(\\d)')\n",
        "    matchobj = regex.search(header)\n",
        "    value = matchobj.groups()\n",
        "    dic = dict(zip(key, value))\n",
        "    return dic\n",
        "print(handle_uniprot_header('sp|P27747|ACOX_RALEH Acetoin catabolism protein X OS=Ralstonia eutropha GN=acoX PE=4 SV=2'))"
      ],
      "execution_count": 43,
      "outputs": [
        {
          "output_type": "stream",
          "text": [
            "{'id': 'P27747', 'Entry': 'ACOX_RALEH', 'Protein': 'Acetoin catabolism protein X', 'OS': 'Ralstonia eutropha', 'GN': 'acoX', 'PE': '4', 'SV': '2'}\n"
          ],
          "name": "stdout"
        }
      ]
    }
  ]
}