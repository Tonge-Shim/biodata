{
  "nbformat": 4,
  "nbformat_minor": 0,
  "metadata": {
    "colab": {
      "name": "badesil.ipynb",
      "provenance": [],
      "collapsed_sections": [],
      "toc_visible": true
    },
    "kernelspec": {
      "name": "python3",
      "display_name": "Python 3"
    },
    "language_info": {
      "name": "python"
    }
  },
  "cells": [
    {
      "cell_type": "markdown",
      "metadata": {
        "id": "mwSUVegKlh3G"
      },
      "source": [
        "#3.30 화요일 \n",
        "#<SeqRecord 객체>\n",
        "* Seq객체에 추가적인 정보들을 넣을 수 있는 객체.\n",
        "* 서열 +서열의 이름, NCBI 의 ID 등등... 추가적인 정보\n",
        "* Seq객체에서 SeqRecord 객체 생성하기\n",
        "* 더 알고 싶다면, dir() function. --> dir(seqRecord)실행\n",
        "[ SeqRecord 객체 만들기]\n",
        "                -> 문자열로부터 SeqRecord 객체 만들기\n",
        "\t\t        -> FASTA파일로부터 SeqRecord 객체 만들기\n",
        "\t\t        -> GenBank파일로부터 SeqRecord 객체 만들기\n",
        "\t\t        -> SeqRecord 객체간 비교하기\n",
        "\n",
        "\n"
      ]
    },
    {
      "cell_type": "code",
      "metadata": {
        "colab": {
          "base_uri": "https://localhost:8080/"
        },
        "id": "M75KVMopiDMA",
        "outputId": "e5a31f56-e588-406e-de64-a4cd9e00326a"
      },
      "source": [
        "pip install biopython"
      ],
      "execution_count": null,
      "outputs": [
        {
          "output_type": "stream",
          "text": [
            "Collecting biopython\n",
            "\u001b[?25l  Downloading https://files.pythonhosted.org/packages/3a/cd/0098eaff841850c01da928c7f509b72fd3e1f51d77b772e24de9e2312471/biopython-1.78-cp37-cp37m-manylinux1_x86_64.whl (2.3MB)\n",
            "\u001b[K     |████████████████████████████████| 2.3MB 8.3MB/s \n",
            "\u001b[?25hRequirement already satisfied: numpy in /usr/local/lib/python3.7/dist-packages (from biopython) (1.19.5)\n",
            "Installing collected packages: biopython\n",
            "Successfully installed biopython-1.78\n"
          ],
          "name": "stdout"
        }
      ]
    },
    {
      "cell_type": "code",
      "metadata": {
        "colab": {
          "base_uri": "https://localhost:8080/"
        },
        "id": "AiQlqiE-hO1K",
        "outputId": "563bcdb7-8e02-499f-e34a-6bbff1ab1607"
      },
      "source": [
        "\n",
        "from Bio.Seq import Seq\n",
        "from Bio.SeqRecord import SeqRecord\n",
        "\n",
        "seq = Seq(\"ACGT\")\n",
        "seqRecord = SeqRecord(seq)\n",
        "\n",
        "print(seqRecord)\n",
        "\n",
        "\n",
        "#추가적인 정보들이 나오는구만..."
      ],
      "execution_count": null,
      "outputs": [
        {
          "output_type": "stream",
          "text": [
            "ID: <unknown id>\n",
            "Name: <unknown name>\n",
            "Description: <unknown description>\n",
            "Number of features: 0\n",
            "Seq('ACGT')\n"
          ],
          "name": "stdout"
        }
      ]
    },
    {
      "cell_type": "code",
      "metadata": {
        "id": "TIOeYoAfhkuA",
        "colab": {
          "base_uri": "https://localhost:8080/"
        },
        "outputId": "208904aa-5ccb-43df-a95e-eb4c6d325503"
      },
      "source": [
        "seqRecord = SeqRecord(seq, id = \"NC_1111\", name = \"Test\")# SeqRecord 객체를 만든다.\n",
        "print(seqRecord)"
      ],
      "execution_count": 8,
      "outputs": [
        {
          "output_type": "stream",
          "text": [
            "ID: NC_1111\n",
            "Name: Test\n",
            "Description: <unknown description>\n",
            "Number of features: 0\n",
            "Seq('ACGT')\n"
          ],
          "name": "stdout"
        }
      ]
    },
    {
      "cell_type": "code",
      "metadata": {
        "colab": {
          "base_uri": "https://localhost:8080/"
        },
        "id": "YmlgQuZVlA_D",
        "outputId": "ffd9a18b-54c6-49ee-99ef-9d5fd0da68be"
      },
      "source": [
        "seqRecord.name = \"NEW NAME\"\n",
        "print(seqRecord)"
      ],
      "execution_count": 9,
      "outputs": [
        {
          "output_type": "stream",
          "text": [
            "ID: NC_1111\n",
            "Name: NEW NAME\n",
            "Description: <unknown description>\n",
            "Number of features: 0\n",
            "Seq('ACGT')\n"
          ],
          "name": "stdout"
        }
      ]
    },
    {
      "cell_type": "code",
      "metadata": {
        "id": "oyFbrtgxlz_O"
      },
      "source": [
        "dir(seq), dir(seqRecord)"
      ],
      "execution_count": null,
      "outputs": []
    },
    {
      "cell_type": "code",
      "metadata": {
        "colab": {
          "base_uri": "https://localhost:8080/"
        },
        "id": "1-hendc2mDv-",
        "outputId": "2478d2ed-a30b-4ec0-cdf0-dccc5eb138ed"
      },
      "source": [
        "#문자열로 SeqRecord 객체 만들기\n",
        "seqRecord.id = \"NC_111111\"\n",
        "seqRecord.name = \"GENEA\"\n",
        "seqRecord.description = \"This is a description\"\n",
        "seqRecord.annotations[\"Annotation_key1\"] = \"Annotaion_Value1\"\n",
        "seqRecord.annotations[\"Annotation_key2\"] = \"Annotaion_Value2\"\n",
        "print(seqRecord)"
      ],
      "execution_count": 12,
      "outputs": [
        {
          "output_type": "stream",
          "text": [
            "ID: NC_111111\n",
            "Name: GENEA\n",
            "Description: This is a description\n",
            "Number of features: 0\n",
            "/Annotation_key1=Annotaion_Value1\n",
            "/Annotation_key2=Annotaion_Value2\n",
            "Seq('ACGT')\n"
          ],
          "name": "stdout"
        }
      ]
    },
    {
      "cell_type": "code",
      "metadata": {
        "colab": {
          "base_uri": "https://localhost:8080/"
        },
        "id": "j89d9nHvnLcc",
        "outputId": "381117e3-4aff-4ae1-9136-7574d0abbb8e"
      },
      "source": [
        "#fasta file -> seqrecord , ncbi 들어가서 J01636.1 검색., 다운로드\n",
        "from Bio import SeqIO\n",
        "record  = SeqIO.read(\"/content/sequence.fasta\", \"fasta\")#argument로 format \"fasta\"가 꼭 들어가야함...\n",
        "print(type(record))\n",
        "print(record)"
      ],
      "execution_count": 17,
      "outputs": [
        {
          "output_type": "stream",
          "text": [
            "<class 'Bio.SeqRecord.SeqRecord'>\n",
            "ID: J01636.1\n",
            "Name: J01636.1\n",
            "Description: J01636.1 E.coli lactose operon with lacI, lacZ, lacY and lacA genes\n",
            "Number of features: 0\n",
            "Seq('GACACCATCGAATGGCGCAAAACCTTTCGCGGTATGGCATGATAGCGCCCGGAA...GAC')\n"
          ],
          "name": "stdout"
        }
      ]
    },
    {
      "cell_type": "code",
      "metadata": {
        "colab": {
          "base_uri": "https://localhost:8080/"
        },
        "id": "ebBWPEBLpJiN",
        "outputId": "8c8426fd-c8ee-4099-aae7-3d6d29537cf7"
      },
      "source": [
        "#from GenBank\n",
        "record = SeqIO.read(\"/content/sequence.gb\", \"genbank\")\n",
        "print(type(record))\n",
        "print(record)"
      ],
      "execution_count": 18,
      "outputs": [
        {
          "output_type": "stream",
          "text": [
            "<class 'Bio.SeqRecord.SeqRecord'>\n",
            "ID: J01636.1\n",
            "Name: ECOLAC\n",
            "Description: E.coli lactose operon with lacI, lacZ, lacY and lacA genes\n",
            "Number of features: 22\n",
            "/molecule_type=DNA\n",
            "/topology=linear\n",
            "/data_file_division=BCT\n",
            "/date=05-MAY-1993\n",
            "/accessions=['J01636', 'J01637', 'K01483', 'K01793']\n",
            "/sequence_version=1\n",
            "/keywords=['acetyltransferase', 'beta-D-galactosidase', 'galactosidase', 'lac operon', 'lac repressor protein', 'lacA gene', 'lacI gene', 'lacY gene', 'lacZ gene', 'lactose permease', 'mutagenesis', 'palindrome', 'promoter region', 'thiogalactoside acetyltransferase']\n",
            "/source=Escherichia coli\n",
            "/organism=Escherichia coli\n",
            "/taxonomy=['Bacteria', 'Proteobacteria', 'Gammaproteobacteria', 'Enterobacterales', 'Enterobacteriaceae', 'Escherichia']\n",
            "/references=[Reference(title='The nucleotide sequence of the lac operator', ...), Reference(title='The nucleotide sequence of the lactose messenger ribonucleic acid transcribed from the UV5 promoter mutant of Escherichia coli', ...), Reference(title='Sequences of controlling regions of the lactose operon', ...), Reference(title='Lactose operator sequences and the action of lac repressor', ...), Reference(title='Genetic regulation: the Lac control region', ...), Reference(title='Contacts between the lac repressor and DNA revealed by methylation', ...), Reference(title='Structure of the lactose operator', ...), Reference(title='Synthetic lac operator DNA is functional in vivo', ...), Reference(title='Nucleotide sequence changes produced by mutations in the lac promoter of Escherichia coli', ...), Reference(title=\"5'-Terminal nucleotide sequence of Escherichia coli lactose repressor mRNA: features of translational initiation and reinitiation sites\", ...), Reference(title=\"DNA sequence for a low-level promoter of the lac repressor gene and an 'up' promoter mutation\", ...), Reference(title='Sequence of the lacI gene', ...), Reference(title='Correlation of nonsense sites in the lacI gene with specific codons in the nucleotide sequence', ...), Reference(title='DNA sequence alteration resulting from a mutation impairing promoter function in the lac repressor gene', ...), Reference(title='Sequence of the lactose permease gene', ...), Reference(title='Genetic and sequencing studies of the specificity of transposition into the lac region of E. coli', ...), Reference(title='Topography of interaction of Escherichia coli RNA polymerase subunits with lac UV5 promoter', ...), Reference(title='Variants of a cloned synthetic lactose operator. I. A palindromic dimer lactose operator derived from one stand of the cloned 40-base pair operator', ...), Reference(title='Cloning and characterization of the natural lactose operator', ...), Reference(title='Variants of a cloned synthetic lactose operator. II. Chloramphenicol-resistant revertants retaining a lactose operator in the CAT gene of plasmid pBR325', ...), Reference(title='The DNA sequence change resulting from the IQ1 mutation, which greatly increases promoter strength', ...), Reference(title='Mutations in the lacY gene of Escherichia coli define functional organization of lactose permease', ...), Reference(title='Construction and analysis of in vivo activity of E. coli promoter hybrids and promoter mutants that alter the -35 to -10 spacing', ...), Reference(title='A termination site for LacI transcription is between the CAP site and the lac promoter', ...), Reference(title='Effects of neighboring DNA homopolymers on the biochemical and physical properties of the Escherichia coli lactose promoter. I. Cloning and characterization studies', ...), Reference(title='Segment-specific mutagenesis: extensive mutagenesis of a lac promoter/operator element', ...), Reference(title='Footprinting with MPE.Fe(II). Complementary-strand analyses of distamycin- and actinomycin-binding sites on heterogeneous DNA', ...), Reference(title='Sequence of the lacZ gene of Escherichia coli', ...), Reference(title='Lac repressor mRNA transcription terminates in vivo in the lac control region', ...), Reference(title='A perfectly symmetric lac operator binds the lac repressor very tightly', ...), Reference(title='Structural intermediates of deletion mutagenesis: a role for palindromic DNA', ...), Reference(title='Changes in the DNA structure of the lac UV5 promoter during formation of an open complex with Escherichia coli RNA polymerase', ...), Reference(title='Intermediates in transcription initiation from the E. coli lac UV5 promoter', ...), Reference(title='Effects of heterologous ribosomal binding sites on the transcription and translation of the lacZ gene of Escherichia coli', ...), Reference(title='lac Up-promoter mutants with increased homology to the consensus promoter sequence', ...), Reference(title='A frameshift mutation at the junction of an IS1 insertion within lacZ restores beta-galactosidase activity via formation of an active lacZ-IS1 fusion protein', ...), Reference(title='DNA sequence of the lactose operon: the lacA gene and the transcriptional termination region', ...)]\n",
            "/comment=Original source text: Escherichia coli DNA; mRNA; clone\n",
            "lambda-h80dlac DNA; clone puk217; pgm8 (see comment).\n",
            "[3]  sites; UV5 mRNA transcripts and operator mutants. [(in)\n",
            "Sund,H. and Blauer,G. (eds.);Protein-Ligand Interactions:\n",
            "193-207;Walter de]  sites; operator mutational analysis. [7]\n",
            "sites; S1 and mung bean nuclease action on operator DNA. [9]\n",
            "sites; class I, II and III promoter mutant analysis. [13]  sites;\n",
            "lacI mutant analysis.\n",
            "[16]  sites; Tn5, Tn9 and Tn10 insertion sites in lac region. [14]\n",
            "sites; lacI promoter mutation UJ177.\n",
            "[18]  sites; palindromic dimer operator;.\n",
            "[19]  sites; natural operator sequence.\n",
            "[20]  sites; operator mutational analysis.\n",
            "[21]  sites; lacI-Q deletion.\n",
            "[17]  sites; RNA polymerase UV5 promoter interaction. [22]  sites;\n",
            "lacY mutational analysis.\n",
            "[24]  sites; lacI-promoted transcription termination. [25]  sites;\n",
            "wt and UV5 promoter sequence studies. [23]  sites; UV5 promoter\n",
            "mutational analysis.\n",
            "[30]  sites; perfectly symmetric operator sequence. [29]  sites;\n",
            "lacI mRNA termination site.\n",
            "[27]  sites; distamycin and actinomycin binding to promoter. [31]\n",
            "sites; lacI deletion studies.\n",
            "[35]  sites; promoter mutational studies.\n",
            "[33]  sites; DNAase I studies with promoter sequence. [34]  sites;\n",
            "ribosomal binding and translation initiation for lacZ. [36]  sites;\n",
            "insertion sequence IS1 integration in lacZ;. [32]  sites; DNAase I\n",
            "studies with promoter.\n",
            "[1] first reports a 27 bp operator(sites 1240-1266) with two-fold\n",
            "symmetries; the operator has also been defined to be bases\n",
            "1246-1266 or bases 1239-1273 [8]. [(in) Kjeldgaard,N.C. and Maaloe,\n",
            "O.(eds);Control of ribosome synthesis: 138-143;A] explores the\n",
            "ability of lac\n",
            "repressor protein to affect methylation of operator DNA.  [8]\n",
            "argues that DNA on both sides of the 21 bp operator (bases\n",
            "1246-1266) affects repressor binding but that the sequences of this\n",
            "DNA are probably not critical. [5] gives a larger sequence known as\n",
            "the promoter-operator region for the wild-type, whereas [2] and\n",
            "[26] give portions of this region for the mutant strain UV5. Within\n",
            "the promoter region, bases 1162-1199 are identified as the\n",
            "catabolite gene activator protein binding site (cap) and bases\n",
            "1200-1245 are the RNA polymerase interaction site. [10] reports a\n",
            "sequence for the 5'end of the lacI (repressor) gene and discusses\n",
            "restart in mutant strains. [11] presents a sequence for the lacI\n",
            "promoter region and identifies an I-Q mutation which enhances lacI\n",
            "transcription approximately ten-fold. [12] gives a complete\n",
            "sequence\n",
            "for lacI which agrees with the known lac repressor sequence. [26]\n",
            "examines the promoter-operator region in the UV5 strain (lac109)\n",
            "and studies 23 mutant derivatives of this sequence. This sequence\n",
            "agrees with known protein sequences for the lacZ, lacY and lacA\n",
            "enzymes. [15] notes that the fMet codon is not present\n",
            "for lacA and suggests that the 'ttg' codon (5727-5729), which\n",
            "immediately precedes the mature N-terminal asparagine codon, is the\n",
            "start codon. The cds for lacZ, lacY and lacA are included on a\n",
            "single mRNA transcript.\n",
            "Complete source information:\n",
            "Escherichia coli DNA [1],[(in) Kjeldgaard,N.C. and Maaloe,O.(eds);\n",
            "Control of ribosome synthesis: 138-143;A],[8],[12],[26]; mRNA [2],\n",
            "[5],[10]; clone\n",
            "lambda-h80dlac DNA [11],[15]; clone puk217 [28]; pgm8 [37].\n",
            "Seq('GACACCATCGAATGGCGCAAAACCTTTCGCGGTATGGCATGATAGCGCCCGGAA...GAC')\n"
          ],
          "name": "stdout"
        }
      ]
    },
    {
      "cell_type": "code",
      "metadata": {
        "colab": {
          "base_uri": "https://localhost:8080/"
        },
        "id": "XdU54LSdr0X7",
        "outputId": "a299369e-f17f-4e5b-9c3c-066998ee6c91"
      },
      "source": [
        "# 객체 비교\n",
        "str1 = \"acgt\"\n",
        "str2 = \"acgt\"\n",
        "print(str1)\n",
        "print(str1 == str2)#!= //false"
      ],
      "execution_count": 20,
      "outputs": [
        {
          "output_type": "stream",
          "text": [
            "acgt\n",
            "True\n"
          ],
          "name": "stdout"
        }
      ]
    },
    {
      "cell_type": "code",
      "metadata": {
        "colab": {
          "base_uri": "https://localhost:8080/"
        },
        "id": "nMEr3LaNr8mg",
        "outputId": "86946a27-257b-4dd4-eef3-23b96c34b933"
      },
      "source": [
        "seq1 = Seq(\"ACGT\")\n",
        "record1 = SeqRecord(seq1)\n",
        "print(record1)\n",
        "print(\"-=-=-=-=-=-=-\")\n",
        "seq2 = Seq(\"ACGT\")\n",
        "record2 = SeqRecord(seq2)\n",
        "print(record2)\n",
        "\n",
        "#print(record1 == record2) 이런 기능은 없어용...compare the attributes of interest.관심있는것만 비교하셈.\n",
        "print(record1.seq == record2.seq)\n",
        "print(record1.name == record2.name)"
      ],
      "execution_count": 23,
      "outputs": [
        {
          "output_type": "stream",
          "text": [
            "ID: <unknown id>\n",
            "Name: <unknown name>\n",
            "Description: <unknown description>\n",
            "Number of features: 0\n",
            "Seq('ACGT')\n",
            "-=-=-=-=-=-=-\n",
            "ID: <unknown id>\n",
            "Name: <unknown name>\n",
            "Description: <unknown description>\n",
            "Number of features: 0\n",
            "Seq('ACGT')\n",
            "True\n",
            "True\n"
          ],
          "name": "stdout"
        }
      ]
    }
  ]
}