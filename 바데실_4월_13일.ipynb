{
  "nbformat": 4,
  "nbformat_minor": 0,
  "metadata": {
    "colab": {
      "name": "바데실 4월 13일.ipynb",
      "provenance": [],
      "authorship_tag": "ABX9TyNZrOlcD8k7rwL1J56yeupa",
      "include_colab_link": true
    },
    "kernelspec": {
      "name": "python3",
      "display_name": "Python 3"
    },
    "language_info": {
      "name": "python"
    }
  },
  "cells": [
    {
      "cell_type": "markdown",
      "metadata": {
        "id": "view-in-github",
        "colab_type": "text"
      },
      "source": [
        "<a href=\"https://colab.research.google.com/github/Tonge-Shim/biodata/blob/main/%EB%B0%94%EB%8D%B0%EC%8B%A4_4%EC%9B%94_13%EC%9D%BC.ipynb\" target=\"_parent\"><img src=\"https://colab.research.google.com/assets/colab-badge.svg\" alt=\"Open In Colab\"/></a>"
      ]
    },
    {
      "cell_type": "markdown",
      "metadata": {
        "id": "QfXQQtnzZVGX"
      },
      "source": [
        "#pattern Matching in Sequence Data\n",
        "    -생명정보학에서 패턴찾기의  중요성\n",
        "* 생물학적 서열 데이터 내에서 특정한 패턴을 찾는 것은 생명정보학자가 일상적으로 처리하는 가장 일반적인 작업 중 하나이다. \n",
        "* 서열 데이터의 패턴은 대부분 분자의 특정 기능에 밀접하게 연관되어 있다.\n",
        "* 단백질이 특정기능을 수행하려면 단백질의 구조에 특정한 패턴이 필요하고, 거기에 상응하는 DNA서열 패턴이 있다.\n",
        "* DNA 서열에는 유전자 발현량을 조절하기 위한 결합부위등이 관련되어 있다.\n",
        "* 서열 데이터(DNA, RNA)에서 특정 패턴을 찾는 것은 생물학적 기능연구와 깊은 연관이 있다.\n",
        "\n",
        "*생명정보학에서 패턴찾기 작업의 다양성*\n",
        "* 패턴 유형\n",
        "* 패턴의 크기와 수\n",
        "* 대상 서열의 종류\n",
        "\n",
        "*Tandem Repeat*\n",
        "\n",
        "* DNA염기서열 중에서 특정 염기서열이 계속 반복되는 영역\n",
        "* 대부분은 단백질을 coding하지 않는 non-coding 영역에 분포\n",
        "* 전체 염기서열의 15~20%를 차지할 정도로 상당한 비중임\n",
        "* 개인간의 차이로 인해, 주로 친자확인이나 범인의 DNA로부터 신원 감식할때 주로 사용됨\n",
        "\n",
        "*예: Short Tandem Repeat(STR)*\n",
        "설명: 'AT'(2-6글자 정도)의 짧은 서열 unit이 8번, 20번 등 많이 반복하는 것\n",
        "* 반복되는 서열이 2-7개의 염기로 매우 짧은 경우, 전체 유전체에 걸쳐 3만여개 이상 분포되어 있는 것으로 생각됨.(10kb당 1개꼴)\n",
        "* STR 마커는 개인별로 다양하게 나타나기 때문에, 일종의 profile로 이용한다.\n",
        "* 사람마다 다름... 반복되는 횟수가 다르다...str marker라고도 한다. 사람마다 다르니까...친자확인 감식...범인 검거시...에 사용된다.\n",
        "* 그림 예시: \"AGAT\"의 서열의 반복 구간이 2번 나오는데, 사람마다 각각 그 반복 횟수가 모두 다름\n",
        "* 범죄조사를 위해 검사를 하는데 변형이 일어났다?라는 일이 있을 수 있기 때문에 여러 부위의 패턴검사를 해서 판별한다. \n",
        "\n",
        "**고정된 패턴을 찾는 단순한 알고리즘**\n",
        "\n",
        "\n",
        "```\n",
        "def search_first_occ(seq, pattern):\n",
        "    found = False\n",
        "    i = 0\n",
        "    while i<len(seq)-len(pattern) and not found:\n",
        "        j = 0\n",
        "        while j< len(pattern) and pattern[j] == seq[i+j]:\n",
        "            j = j+1\n",
        "        if j == len(pattern): found = True\n",
        "        else i+=1\n",
        "    if found: return i\n",
        "    else: return-1\n",
        "\n",
        "def search_all_occurrences(seq, pattern):\n",
        "    res = []\n",
        "    for i in range(len(seq)-len(pattern)+1):\n",
        "        j = 0\n",
        "        while j<len(pattern) and pattern[j] == seq[i+j]:\n",
        "            j = j+1\n",
        "        if j == len(pattern):\n",
        "            res.append(i)\n",
        "    return res\n",
        "\n",
        "\n",
        "def test_pattern_search():\n",
        "    seq = input(\"input sequence: \")\n",
        "    pat = input(\"input pattern: \")\n",
        "    print(pat, \"occurs in the following positions: \", )\n",
        "    print(search_all_occurrences(seq,pat))\n",
        "    \n",
        "    \n",
        "    #근데 이거 겁나 비효율적임...\n",
        "    \n",
        "     ```\n",
        "*알고리즘 분석: O(N,k) = (N-k+1)*k\n",
        "\n",
        "\n"
      ]
    },
    {
      "cell_type": "code",
      "metadata": {
        "id": "2OPlwMrRZSVh"
      },
      "source": [
        "def search_first_occ(seq, pattern):\n",
        "    found = False\n",
        "    i = 0\n",
        "    while i<len(seq)-len(pattern) and not found:\n",
        "        j = 0\n",
        "        while j< len(pattern) and pattern[j] == seq[i+j]:\n",
        "            j = j+1\n",
        "        if j == len(pattern): found = True\n",
        "        else: i+=1\n",
        "    if found: return i\n",
        "    else: return-1\n",
        "\n",
        "def search_all_occurrences(seq, pattern):\n",
        "    res = []\n",
        "    for i in range(len(seq)-len(pattern)+1):\n",
        "        j = 0\n",
        "        while j<len(pattern) and pattern[j] == seq[i+j]:\n",
        "            j = j+1\n",
        "        if j == len(pattern):\n",
        "            res.append(i)\n",
        "    return res\n",
        "\n",
        "\n",
        "def test_pattern_search():\n",
        "    seq = input(\"input sequence: \")\n",
        "    pat = input(\"input pattern: \")\n",
        "    print(pat, \"occurs in the following positions: \", )\n",
        "    print(search_all_occurrences(seq,pat))\n",
        "    "
      ],
      "execution_count": 2,
      "outputs": []
    },
    {
      "cell_type": "code",
      "metadata": {
        "colab": {
          "base_uri": "https://localhost:8080/"
        },
        "id": "Mw687kU9GVgy",
        "outputId": "b225efc4-8a0c-40e2-e877-3a1bf2c6a083"
      },
      "source": [
        "test_pattern_search()"
      ],
      "execution_count": 3,
      "outputs": [
        {
          "output_type": "stream",
          "text": [
            "input sequence: atcgatcgggataaagctatatatatcgatctaatacgctctctatctatcgatccatgctatcttaggtc\n",
            "input pattern: at\n",
            "at occurs in the following positions: \n",
            "[0, 4, 10, 18, 20, 22, 24, 28, 33, 44, 48, 52, 56, 61]\n"
          ],
          "name": "stdout"
        }
      ]
    }
  ]
}