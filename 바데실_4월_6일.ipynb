{
  "nbformat": 4,
  "nbformat_minor": 0,
  "metadata": {
    "colab": {
      "name": "바데실 4월 6일.ipynb",
      "provenance": [],
      "collapsed_sections": [],
      "authorship_tag": "ABX9TyMedg4fUOEpLi3QchmOqeiD",
      "include_colab_link": true
    },
    "kernelspec": {
      "name": "python3",
      "display_name": "Python 3"
    },
    "language_info": {
      "name": "python"
    }
  },
  "cells": [
    {
      "cell_type": "markdown",
      "metadata": {
        "id": "view-in-github",
        "colab_type": "text"
      },
      "source": [
        "<a href=\"https://colab.research.google.com/github/Tonge-Shim/biodata/blob/main/%EB%B0%94%EB%8D%B0%EC%8B%A4_4%EC%9B%94_6%EC%9D%BC.ipynb\" target=\"_parent\"><img src=\"https://colab.research.google.com/assets/colab-badge.svg\" alt=\"Open In Colab\"/></a>"
      ]
    },
    {
      "cell_type": "code",
      "metadata": {
        "colab": {
          "base_uri": "https://localhost:8080/"
        },
        "id": "no0Wx-H6r--G",
        "outputId": "e8cfb74a-0849-4f2b-a148-72e89db4a2ab"
      },
      "source": [
        "pip install biopython"
      ],
      "execution_count": 3,
      "outputs": [
        {
          "output_type": "stream",
          "text": [
            "Collecting biopython\n",
            "\u001b[?25l  Downloading https://files.pythonhosted.org/packages/3a/cd/0098eaff841850c01da928c7f509b72fd3e1f51d77b772e24de9e2312471/biopython-1.78-cp37-cp37m-manylinux1_x86_64.whl (2.3MB)\n",
            "\r\u001b[K     |▏                               | 10kB 24.0MB/s eta 0:00:01\r\u001b[K     |▎                               | 20kB 29.6MB/s eta 0:00:01\r\u001b[K     |▍                               | 30kB 21.9MB/s eta 0:00:01\r\u001b[K     |▋                               | 40kB 25.1MB/s eta 0:00:01\r\u001b[K     |▊                               | 51kB 25.8MB/s eta 0:00:01\r\u001b[K     |▉                               | 61kB 28.6MB/s eta 0:00:01\r\u001b[K     |█                               | 71kB 19.1MB/s eta 0:00:01\r\u001b[K     |█▏                              | 81kB 20.4MB/s eta 0:00:01\r\u001b[K     |█▎                              | 92kB 18.9MB/s eta 0:00:01\r\u001b[K     |█▌                              | 102kB 20.3MB/s eta 0:00:01\r\u001b[K     |█▋                              | 112kB 20.3MB/s eta 0:00:01\r\u001b[K     |█▊                              | 122kB 20.3MB/s eta 0:00:01\r\u001b[K     |██                              | 133kB 20.3MB/s eta 0:00:01\r\u001b[K     |██                              | 143kB 20.3MB/s eta 0:00:01\r\u001b[K     |██▏                             | 153kB 20.3MB/s eta 0:00:01\r\u001b[K     |██▎                             | 163kB 20.3MB/s eta 0:00:01\r\u001b[K     |██▌                             | 174kB 20.3MB/s eta 0:00:01\r\u001b[K     |██▋                             | 184kB 20.3MB/s eta 0:00:01\r\u001b[K     |██▊                             | 194kB 20.3MB/s eta 0:00:01\r\u001b[K     |███                             | 204kB 20.3MB/s eta 0:00:01\r\u001b[K     |███                             | 215kB 20.3MB/s eta 0:00:01\r\u001b[K     |███▏                            | 225kB 20.3MB/s eta 0:00:01\r\u001b[K     |███▍                            | 235kB 20.3MB/s eta 0:00:01\r\u001b[K     |███▌                            | 245kB 20.3MB/s eta 0:00:01\r\u001b[K     |███▋                            | 256kB 20.3MB/s eta 0:00:01\r\u001b[K     |███▉                            | 266kB 20.3MB/s eta 0:00:01\r\u001b[K     |████                            | 276kB 20.3MB/s eta 0:00:01\r\u001b[K     |████                            | 286kB 20.3MB/s eta 0:00:01\r\u001b[K     |████▏                           | 296kB 20.3MB/s eta 0:00:01\r\u001b[K     |████▍                           | 307kB 20.3MB/s eta 0:00:01\r\u001b[K     |████▌                           | 317kB 20.3MB/s eta 0:00:01\r\u001b[K     |████▋                           | 327kB 20.3MB/s eta 0:00:01\r\u001b[K     |████▉                           | 337kB 20.3MB/s eta 0:00:01\r\u001b[K     |█████                           | 348kB 20.3MB/s eta 0:00:01\r\u001b[K     |█████                           | 358kB 20.3MB/s eta 0:00:01\r\u001b[K     |█████▎                          | 368kB 20.3MB/s eta 0:00:01\r\u001b[K     |█████▍                          | 378kB 20.3MB/s eta 0:00:01\r\u001b[K     |█████▌                          | 389kB 20.3MB/s eta 0:00:01\r\u001b[K     |█████▊                          | 399kB 20.3MB/s eta 0:00:01\r\u001b[K     |█████▉                          | 409kB 20.3MB/s eta 0:00:01\r\u001b[K     |██████                          | 419kB 20.3MB/s eta 0:00:01\r\u001b[K     |██████                          | 430kB 20.3MB/s eta 0:00:01\r\u001b[K     |██████▎                         | 440kB 20.3MB/s eta 0:00:01\r\u001b[K     |██████▍                         | 450kB 20.3MB/s eta 0:00:01\r\u001b[K     |██████▌                         | 460kB 20.3MB/s eta 0:00:01\r\u001b[K     |██████▊                         | 471kB 20.3MB/s eta 0:00:01\r\u001b[K     |██████▉                         | 481kB 20.3MB/s eta 0:00:01\r\u001b[K     |███████                         | 491kB 20.3MB/s eta 0:00:01\r\u001b[K     |███████▏                        | 501kB 20.3MB/s eta 0:00:01\r\u001b[K     |███████▎                        | 512kB 20.3MB/s eta 0:00:01\r\u001b[K     |███████▍                        | 522kB 20.3MB/s eta 0:00:01\r\u001b[K     |███████▋                        | 532kB 20.3MB/s eta 0:00:01\r\u001b[K     |███████▊                        | 542kB 20.3MB/s eta 0:00:01\r\u001b[K     |███████▉                        | 552kB 20.3MB/s eta 0:00:01\r\u001b[K     |████████                        | 563kB 20.3MB/s eta 0:00:01\r\u001b[K     |████████▏                       | 573kB 20.3MB/s eta 0:00:01\r\u001b[K     |████████▎                       | 583kB 20.3MB/s eta 0:00:01\r\u001b[K     |████████▍                       | 593kB 20.3MB/s eta 0:00:01\r\u001b[K     |████████▋                       | 604kB 20.3MB/s eta 0:00:01\r\u001b[K     |████████▊                       | 614kB 20.3MB/s eta 0:00:01\r\u001b[K     |████████▉                       | 624kB 20.3MB/s eta 0:00:01\r\u001b[K     |█████████                       | 634kB 20.3MB/s eta 0:00:01\r\u001b[K     |█████████▏                      | 645kB 20.3MB/s eta 0:00:01\r\u001b[K     |█████████▎                      | 655kB 20.3MB/s eta 0:00:01\r\u001b[K     |█████████▌                      | 665kB 20.3MB/s eta 0:00:01\r\u001b[K     |█████████▋                      | 675kB 20.3MB/s eta 0:00:01\r\u001b[K     |█████████▊                      | 686kB 20.3MB/s eta 0:00:01\r\u001b[K     |█████████▉                      | 696kB 20.3MB/s eta 0:00:01\r\u001b[K     |██████████                      | 706kB 20.3MB/s eta 0:00:01\r\u001b[K     |██████████▏                     | 716kB 20.3MB/s eta 0:00:01\r\u001b[K     |██████████▎                     | 727kB 20.3MB/s eta 0:00:01\r\u001b[K     |██████████▌                     | 737kB 20.3MB/s eta 0:00:01\r\u001b[K     |██████████▋                     | 747kB 20.3MB/s eta 0:00:01\r\u001b[K     |██████████▊                     | 757kB 20.3MB/s eta 0:00:01\r\u001b[K     |███████████                     | 768kB 20.3MB/s eta 0:00:01\r\u001b[K     |███████████                     | 778kB 20.3MB/s eta 0:00:01\r\u001b[K     |███████████▏                    | 788kB 20.3MB/s eta 0:00:01\r\u001b[K     |███████████▍                    | 798kB 20.3MB/s eta 0:00:01\r\u001b[K     |███████████▌                    | 808kB 20.3MB/s eta 0:00:01\r\u001b[K     |███████████▋                    | 819kB 20.3MB/s eta 0:00:01\r\u001b[K     |███████████▉                    | 829kB 20.3MB/s eta 0:00:01\r\u001b[K     |████████████                    | 839kB 20.3MB/s eta 0:00:01\r\u001b[K     |████████████                    | 849kB 20.3MB/s eta 0:00:01\r\u001b[K     |████████████▏                   | 860kB 20.3MB/s eta 0:00:01\r\u001b[K     |████████████▍                   | 870kB 20.3MB/s eta 0:00:01\r\u001b[K     |████████████▌                   | 880kB 20.3MB/s eta 0:00:01\r\u001b[K     |████████████▋                   | 890kB 20.3MB/s eta 0:00:01\r\u001b[K     |████████████▉                   | 901kB 20.3MB/s eta 0:00:01\r\u001b[K     |█████████████                   | 911kB 20.3MB/s eta 0:00:01\r\u001b[K     |█████████████                   | 921kB 20.3MB/s eta 0:00:01\r\u001b[K     |█████████████▎                  | 931kB 20.3MB/s eta 0:00:01\r\u001b[K     |█████████████▍                  | 942kB 20.3MB/s eta 0:00:01\r\u001b[K     |█████████████▌                  | 952kB 20.3MB/s eta 0:00:01\r\u001b[K     |█████████████▊                  | 962kB 20.3MB/s eta 0:00:01\r\u001b[K     |█████████████▉                  | 972kB 20.3MB/s eta 0:00:01\r\u001b[K     |██████████████                  | 983kB 20.3MB/s eta 0:00:01\r\u001b[K     |██████████████                  | 993kB 20.3MB/s eta 0:00:01\r\u001b[K     |██████████████▎                 | 1.0MB 20.3MB/s eta 0:00:01\r\u001b[K     |██████████████▍                 | 1.0MB 20.3MB/s eta 0:00:01\r\u001b[K     |██████████████▌                 | 1.0MB 20.3MB/s eta 0:00:01\r\u001b[K     |██████████████▊                 | 1.0MB 20.3MB/s eta 0:00:01\r\u001b[K     |██████████████▉                 | 1.0MB 20.3MB/s eta 0:00:01\r\u001b[K     |███████████████                 | 1.1MB 20.3MB/s eta 0:00:01\r\u001b[K     |███████████████▏                | 1.1MB 20.3MB/s eta 0:00:01\r\u001b[K     |███████████████▎                | 1.1MB 20.3MB/s eta 0:00:01\r\u001b[K     |███████████████▍                | 1.1MB 20.3MB/s eta 0:00:01\r\u001b[K     |███████████████▋                | 1.1MB 20.3MB/s eta 0:00:01\r\u001b[K     |███████████████▊                | 1.1MB 20.3MB/s eta 0:00:01\r\u001b[K     |███████████████▉                | 1.1MB 20.3MB/s eta 0:00:01\r\u001b[K     |████████████████                | 1.1MB 20.3MB/s eta 0:00:01\r\u001b[K     |████████████████▏               | 1.1MB 20.3MB/s eta 0:00:01\r\u001b[K     |████████████████▎               | 1.1MB 20.3MB/s eta 0:00:01\r\u001b[K     |████████████████▍               | 1.2MB 20.3MB/s eta 0:00:01\r\u001b[K     |████████████████▋               | 1.2MB 20.3MB/s eta 0:00:01\r\u001b[K     |████████████████▊               | 1.2MB 20.3MB/s eta 0:00:01\r\u001b[K     |████████████████▉               | 1.2MB 20.3MB/s eta 0:00:01\r\u001b[K     |█████████████████               | 1.2MB 20.3MB/s eta 0:00:01\r\u001b[K     |█████████████████▏              | 1.2MB 20.3MB/s eta 0:00:01\r\u001b[K     |█████████████████▎              | 1.2MB 20.3MB/s eta 0:00:01\r\u001b[K     |█████████████████▌              | 1.2MB 20.3MB/s eta 0:00:01\r\u001b[K     |█████████████████▋              | 1.2MB 20.3MB/s eta 0:00:01\r\u001b[K     |█████████████████▊              | 1.2MB 20.3MB/s eta 0:00:01\r\u001b[K     |█████████████████▉              | 1.3MB 20.3MB/s eta 0:00:01\r\u001b[K     |██████████████████              | 1.3MB 20.3MB/s eta 0:00:01\r\u001b[K     |██████████████████▏             | 1.3MB 20.3MB/s eta 0:00:01\r\u001b[K     |██████████████████▎             | 1.3MB 20.3MB/s eta 0:00:01\r\u001b[K     |██████████████████▌             | 1.3MB 20.3MB/s eta 0:00:01\r\u001b[K     |██████████████████▋             | 1.3MB 20.3MB/s eta 0:00:01\r\u001b[K     |██████████████████▊             | 1.3MB 20.3MB/s eta 0:00:01\r\u001b[K     |███████████████████             | 1.3MB 20.3MB/s eta 0:00:01\r\u001b[K     |███████████████████             | 1.3MB 20.3MB/s eta 0:00:01\r\u001b[K     |███████████████████▏            | 1.4MB 20.3MB/s eta 0:00:01\r\u001b[K     |███████████████████▍            | 1.4MB 20.3MB/s eta 0:00:01\r\u001b[K     |███████████████████▌            | 1.4MB 20.3MB/s eta 0:00:01\r\u001b[K     |███████████████████▋            | 1.4MB 20.3MB/s eta 0:00:01\r\u001b[K     |███████████████████▊            | 1.4MB 20.3MB/s eta 0:00:01\r\u001b[K     |████████████████████            | 1.4MB 20.3MB/s eta 0:00:01\r\u001b[K     |████████████████████            | 1.4MB 20.3MB/s eta 0:00:01\r\u001b[K     |████████████████████▏           | 1.4MB 20.3MB/s eta 0:00:01\r\u001b[K     |████████████████████▍           | 1.4MB 20.3MB/s eta 0:00:01\r\u001b[K     |████████████████████▌           | 1.4MB 20.3MB/s eta 0:00:01\r\u001b[K     |████████████████████▋           | 1.5MB 20.3MB/s eta 0:00:01\r\u001b[K     |████████████████████▉           | 1.5MB 20.3MB/s eta 0:00:01\r\u001b[K     |█████████████████████           | 1.5MB 20.3MB/s eta 0:00:01\r\u001b[K     |█████████████████████           | 1.5MB 20.3MB/s eta 0:00:01\r\u001b[K     |█████████████████████▎          | 1.5MB 20.3MB/s eta 0:00:01\r\u001b[K     |█████████████████████▍          | 1.5MB 20.3MB/s eta 0:00:01\r\u001b[K     |█████████████████████▌          | 1.5MB 20.3MB/s eta 0:00:01\r\u001b[K     |█████████████████████▊          | 1.5MB 20.3MB/s eta 0:00:01\r\u001b[K     |█████████████████████▉          | 1.5MB 20.3MB/s eta 0:00:01\r\u001b[K     |██████████████████████          | 1.5MB 20.3MB/s eta 0:00:01\r\u001b[K     |██████████████████████          | 1.6MB 20.3MB/s eta 0:00:01\r\u001b[K     |██████████████████████▎         | 1.6MB 20.3MB/s eta 0:00:01\r\u001b[K     |██████████████████████▍         | 1.6MB 20.3MB/s eta 0:00:01\r\u001b[K     |██████████████████████▌         | 1.6MB 20.3MB/s eta 0:00:01\r\u001b[K     |██████████████████████▊         | 1.6MB 20.3MB/s eta 0:00:01\r\u001b[K     |██████████████████████▉         | 1.6MB 20.3MB/s eta 0:00:01\r\u001b[K     |███████████████████████         | 1.6MB 20.3MB/s eta 0:00:01\r\u001b[K     |███████████████████████▏        | 1.6MB 20.3MB/s eta 0:00:01\r\u001b[K     |███████████████████████▎        | 1.6MB 20.3MB/s eta 0:00:01\r\u001b[K     |███████████████████████▍        | 1.6MB 20.3MB/s eta 0:00:01\r\u001b[K     |███████████████████████▋        | 1.7MB 20.3MB/s eta 0:00:01\r\u001b[K     |███████████████████████▊        | 1.7MB 20.3MB/s eta 0:00:01\r\u001b[K     |███████████████████████▉        | 1.7MB 20.3MB/s eta 0:00:01\r\u001b[K     |████████████████████████        | 1.7MB 20.3MB/s eta 0:00:01\r\u001b[K     |████████████████████████▏       | 1.7MB 20.3MB/s eta 0:00:01\r\u001b[K     |████████████████████████▎       | 1.7MB 20.3MB/s eta 0:00:01\r\u001b[K     |████████████████████████▍       | 1.7MB 20.3MB/s eta 0:00:01\r\u001b[K     |████████████████████████▋       | 1.7MB 20.3MB/s eta 0:00:01\r\u001b[K     |████████████████████████▊       | 1.7MB 20.3MB/s eta 0:00:01\r\u001b[K     |████████████████████████▉       | 1.8MB 20.3MB/s eta 0:00:01\r\u001b[K     |█████████████████████████       | 1.8MB 20.3MB/s eta 0:00:01\r\u001b[K     |█████████████████████████▏      | 1.8MB 20.3MB/s eta 0:00:01\r\u001b[K     |█████████████████████████▎      | 1.8MB 20.3MB/s eta 0:00:01\r\u001b[K     |█████████████████████████▌      | 1.8MB 20.3MB/s eta 0:00:01\r\u001b[K     |█████████████████████████▋      | 1.8MB 20.3MB/s eta 0:00:01\r\u001b[K     |█████████████████████████▊      | 1.8MB 20.3MB/s eta 0:00:01\r\u001b[K     |█████████████████████████▉      | 1.8MB 20.3MB/s eta 0:00:01\r\u001b[K     |██████████████████████████      | 1.8MB 20.3MB/s eta 0:00:01\r\u001b[K     |██████████████████████████▏     | 1.8MB 20.3MB/s eta 0:00:01\r\u001b[K     |██████████████████████████▎     | 1.9MB 20.3MB/s eta 0:00:01\r\u001b[K     |██████████████████████████▌     | 1.9MB 20.3MB/s eta 0:00:01\r\u001b[K     |██████████████████████████▋     | 1.9MB 20.3MB/s eta 0:00:01\r\u001b[K     |██████████████████████████▊     | 1.9MB 20.3MB/s eta 0:00:01\r\u001b[K     |███████████████████████████     | 1.9MB 20.3MB/s eta 0:00:01\r\u001b[K     |███████████████████████████     | 1.9MB 20.3MB/s eta 0:00:01\r\u001b[K     |███████████████████████████▏    | 1.9MB 20.3MB/s eta 0:00:01\r\u001b[K     |███████████████████████████▍    | 1.9MB 20.3MB/s eta 0:00:01\r\u001b[K     |███████████████████████████▌    | 1.9MB 20.3MB/s eta 0:00:01\r\u001b[K     |███████████████████████████▋    | 1.9MB 20.3MB/s eta 0:00:01\r\u001b[K     |███████████████████████████▊    | 2.0MB 20.3MB/s eta 0:00:01\r\u001b[K     |████████████████████████████    | 2.0MB 20.3MB/s eta 0:00:01\r\u001b[K     |████████████████████████████    | 2.0MB 20.3MB/s eta 0:00:01\r\u001b[K     |████████████████████████████▏   | 2.0MB 20.3MB/s eta 0:00:01\r\u001b[K     |████████████████████████████▍   | 2.0MB 20.3MB/s eta 0:00:01\r\u001b[K     |████████████████████████████▌   | 2.0MB 20.3MB/s eta 0:00:01\r\u001b[K     |████████████████████████████▋   | 2.0MB 20.3MB/s eta 0:00:01\r\u001b[K     |████████████████████████████▉   | 2.0MB 20.3MB/s eta 0:00:01\r\u001b[K     |█████████████████████████████   | 2.0MB 20.3MB/s eta 0:00:01\r\u001b[K     |█████████████████████████████   | 2.0MB 20.3MB/s eta 0:00:01\r\u001b[K     |█████████████████████████████▎  | 2.1MB 20.3MB/s eta 0:00:01\r\u001b[K     |█████████████████████████████▍  | 2.1MB 20.3MB/s eta 0:00:01\r\u001b[K     |█████████████████████████████▌  | 2.1MB 20.3MB/s eta 0:00:01\r\u001b[K     |█████████████████████████████▋  | 2.1MB 20.3MB/s eta 0:00:01\r\u001b[K     |█████████████████████████████▉  | 2.1MB 20.3MB/s eta 0:00:01\r\u001b[K     |██████████████████████████████  | 2.1MB 20.3MB/s eta 0:00:01\r\u001b[K     |██████████████████████████████  | 2.1MB 20.3MB/s eta 0:00:01\r\u001b[K     |██████████████████████████████▎ | 2.1MB 20.3MB/s eta 0:00:01\r\u001b[K     |██████████████████████████████▍ | 2.1MB 20.3MB/s eta 0:00:01\r\u001b[K     |██████████████████████████████▌ | 2.2MB 20.3MB/s eta 0:00:01\r\u001b[K     |██████████████████████████████▊ | 2.2MB 20.3MB/s eta 0:00:01\r\u001b[K     |██████████████████████████████▉ | 2.2MB 20.3MB/s eta 0:00:01\r\u001b[K     |███████████████████████████████ | 2.2MB 20.3MB/s eta 0:00:01\r\u001b[K     |███████████████████████████████▏| 2.2MB 20.3MB/s eta 0:00:01\r\u001b[K     |███████████████████████████████▎| 2.2MB 20.3MB/s eta 0:00:01\r\u001b[K     |███████████████████████████████▍| 2.2MB 20.3MB/s eta 0:00:01\r\u001b[K     |███████████████████████████████▋| 2.2MB 20.3MB/s eta 0:00:01\r\u001b[K     |███████████████████████████████▊| 2.2MB 20.3MB/s eta 0:00:01\r\u001b[K     |███████████████████████████████▉| 2.2MB 20.3MB/s eta 0:00:01\r\u001b[K     |████████████████████████████████| 2.3MB 20.3MB/s eta 0:00:01\r\u001b[K     |████████████████████████████████| 2.3MB 20.3MB/s \n",
            "\u001b[?25hRequirement already satisfied: numpy in /usr/local/lib/python3.7/dist-packages (from biopython) (1.19.5)\n",
            "Installing collected packages: biopython\n",
            "Successfully installed biopython-1.78\n"
          ],
          "name": "stdout"
        }
      ]
    },
    {
      "cell_type": "markdown",
      "metadata": {
        "id": "nYukOoSDsOT_"
      },
      "source": [
        "#4/6일 수업\n",
        "#SeqIO module\n",
        "\n",
        "\n",
        "```\n",
        "from Bio import SeqIO\n",
        "help(SeqIO)\n",
        "```\n",
        "**Bio.SeqIO.parse() gives a SeqRecord iterator one by one**\n"
      ]
    },
    {
      "cell_type": "code",
      "metadata": {
        "id": "u40Eb9KtsDEs"
      },
      "source": [
        "from Bio import SeqIO\n",
        "for seq_record in SeqIO.parse(\"./ls_orchid.fasta\", \"fasta\"):\n",
        "    print(seq_record.id)#제일 윗줄...>로 시작함\n",
        "    print(repr(seq_record.seq))#str도 괜춘(repr)대신\n",
        "    print(len(seq_record))\n",
        "for seq_record in SeqIO.parse(\"./ls_orchid.gbk\", \"genbank\"):\n",
        "    print(seq_record.id)#제일 윗줄...>로 시작함\n",
        "    print(repr(seq_record.seq))#str도 괜춘(repr)대신\n",
        "    print(len(seq_record))"
      ],
      "execution_count": null,
      "outputs": []
    },
    {
      "cell_type": "code",
      "metadata": {
        "id": "EEo-wBgVCdbA"
      },
      "source": [
        "record = SeqIO.read(\"./J01636.1.fasta\", \"fasta\")\n",
        "print(type(record))\n",
        "print(record)\n",
        "\n",
        "record = SeqIO.read(\".Ecoli.gbk\", \"genbank\")\n",
        "print(type(record))\n",
        "print(record)\n"
      ],
      "execution_count": null,
      "outputs": []
    },
    {
      "cell_type": "code",
      "metadata": {
        "colab": {
          "base_uri": "https://localhost:8080/",
          "height": 386
        },
        "id": "tv0BnJerC4GF",
        "outputId": "7ead8939-39a7-4515-d076-02b1fac5daa1"
      },
      "source": [
        "#more than one record in your files.\n",
        "from Bio import SeqIO\n",
        "record = SeqIO.read(\"/content/sequence.gbk\", \"genbank\")\n",
        "print(type(record))\n",
        "print(record)\n",
        "#얘는 오류가 난다.record가 많기 때문에 read method대신 parse를 사용해야 한다."
      ],
      "execution_count": null,
      "outputs": [
        {
          "output_type": "error",
          "ename": "FileNotFoundError",
          "evalue": "ignored",
          "traceback": [
            "\u001b[0;31m---------------------------------------------------------------------------\u001b[0m",
            "\u001b[0;31mFileNotFoundError\u001b[0m                         Traceback (most recent call last)",
            "\u001b[0;32m<ipython-input-2-b3403b134825>\u001b[0m in \u001b[0;36m<module>\u001b[0;34m()\u001b[0m\n\u001b[1;32m      1\u001b[0m \u001b[0;31m#more than one record in your files.\u001b[0m\u001b[0;34m\u001b[0m\u001b[0;34m\u001b[0m\u001b[0;34m\u001b[0m\u001b[0m\n\u001b[1;32m      2\u001b[0m \u001b[0;32mfrom\u001b[0m \u001b[0mBio\u001b[0m \u001b[0;32mimport\u001b[0m \u001b[0mSeqIO\u001b[0m\u001b[0;34m\u001b[0m\u001b[0;34m\u001b[0m\u001b[0m\n\u001b[0;32m----> 3\u001b[0;31m \u001b[0mrecord\u001b[0m \u001b[0;34m=\u001b[0m \u001b[0mSeqIO\u001b[0m\u001b[0;34m.\u001b[0m\u001b[0mread\u001b[0m\u001b[0;34m(\u001b[0m\u001b[0;34m\"/content/sequence.gbk\"\u001b[0m\u001b[0;34m,\u001b[0m \u001b[0;34m\"genbank\"\u001b[0m\u001b[0;34m)\u001b[0m\u001b[0;34m\u001b[0m\u001b[0;34m\u001b[0m\u001b[0m\n\u001b[0m\u001b[1;32m      4\u001b[0m \u001b[0mprint\u001b[0m\u001b[0;34m(\u001b[0m\u001b[0mtype\u001b[0m\u001b[0;34m(\u001b[0m\u001b[0mrecord\u001b[0m\u001b[0;34m)\u001b[0m\u001b[0;34m)\u001b[0m\u001b[0;34m\u001b[0m\u001b[0;34m\u001b[0m\u001b[0m\n\u001b[1;32m      5\u001b[0m \u001b[0mprint\u001b[0m\u001b[0;34m(\u001b[0m\u001b[0mrecord\u001b[0m\u001b[0;34m)\u001b[0m\u001b[0;34m\u001b[0m\u001b[0;34m\u001b[0m\u001b[0m\n",
            "\u001b[0;32m/usr/local/lib/python3.7/dist-packages/Bio/SeqIO/__init__.py\u001b[0m in \u001b[0;36mread\u001b[0;34m(handle, format, alphabet)\u001b[0m\n\u001b[1;32m    652\u001b[0m     \u001b[0mto\u001b[0m \u001b[0mread\u001b[0m \u001b[0mmultiple\u001b[0m \u001b[0mrecords\u001b[0m \u001b[0;32mfrom\u001b[0m \u001b[0mthe\u001b[0m \u001b[0mhandle\u001b[0m\u001b[0;34m.\u001b[0m\u001b[0;34m\u001b[0m\u001b[0;34m\u001b[0m\u001b[0m\n\u001b[1;32m    653\u001b[0m     \"\"\"\n\u001b[0;32m--> 654\u001b[0;31m     \u001b[0miterator\u001b[0m \u001b[0;34m=\u001b[0m \u001b[0mparse\u001b[0m\u001b[0;34m(\u001b[0m\u001b[0mhandle\u001b[0m\u001b[0;34m,\u001b[0m \u001b[0mformat\u001b[0m\u001b[0;34m,\u001b[0m \u001b[0malphabet\u001b[0m\u001b[0;34m)\u001b[0m\u001b[0;34m\u001b[0m\u001b[0;34m\u001b[0m\u001b[0m\n\u001b[0m\u001b[1;32m    655\u001b[0m     \u001b[0;32mtry\u001b[0m\u001b[0;34m:\u001b[0m\u001b[0;34m\u001b[0m\u001b[0;34m\u001b[0m\u001b[0m\n\u001b[1;32m    656\u001b[0m         \u001b[0mrecord\u001b[0m \u001b[0;34m=\u001b[0m \u001b[0mnext\u001b[0m\u001b[0;34m(\u001b[0m\u001b[0miterator\u001b[0m\u001b[0;34m)\u001b[0m\u001b[0;34m\u001b[0m\u001b[0;34m\u001b[0m\u001b[0m\n",
            "\u001b[0;32m/usr/local/lib/python3.7/dist-packages/Bio/SeqIO/__init__.py\u001b[0m in \u001b[0;36mparse\u001b[0;34m(handle, format, alphabet)\u001b[0m\n\u001b[1;32m    605\u001b[0m     \u001b[0miterator_generator\u001b[0m \u001b[0;34m=\u001b[0m \u001b[0m_FormatToIterator\u001b[0m\u001b[0;34m.\u001b[0m\u001b[0mget\u001b[0m\u001b[0;34m(\u001b[0m\u001b[0mformat\u001b[0m\u001b[0;34m)\u001b[0m\u001b[0;34m\u001b[0m\u001b[0;34m\u001b[0m\u001b[0m\n\u001b[1;32m    606\u001b[0m     \u001b[0;32mif\u001b[0m \u001b[0miterator_generator\u001b[0m\u001b[0;34m:\u001b[0m\u001b[0;34m\u001b[0m\u001b[0;34m\u001b[0m\u001b[0m\n\u001b[0;32m--> 607\u001b[0;31m         \u001b[0;32mreturn\u001b[0m \u001b[0miterator_generator\u001b[0m\u001b[0;34m(\u001b[0m\u001b[0mhandle\u001b[0m\u001b[0;34m)\u001b[0m\u001b[0;34m\u001b[0m\u001b[0;34m\u001b[0m\u001b[0m\n\u001b[0m\u001b[1;32m    608\u001b[0m     \u001b[0;32mif\u001b[0m \u001b[0mformat\u001b[0m \u001b[0;32min\u001b[0m \u001b[0mAlignIO\u001b[0m\u001b[0;34m.\u001b[0m\u001b[0m_FormatToIterator\u001b[0m\u001b[0;34m:\u001b[0m\u001b[0;34m\u001b[0m\u001b[0;34m\u001b[0m\u001b[0m\n\u001b[1;32m    609\u001b[0m         \u001b[0;31m# Use Bio.AlignIO to read in the alignments\u001b[0m\u001b[0;34m\u001b[0m\u001b[0;34m\u001b[0m\u001b[0;34m\u001b[0m\u001b[0m\n",
            "\u001b[0;32m/usr/local/lib/python3.7/dist-packages/Bio/SeqIO/InsdcIO.py\u001b[0m in \u001b[0;36m__init__\u001b[0;34m(self, source)\u001b[0m\n\u001b[1;32m     91\u001b[0m \u001b[0;34m\u001b[0m\u001b[0m\n\u001b[1;32m     92\u001b[0m         \"\"\"\n\u001b[0;32m---> 93\u001b[0;31m         \u001b[0msuper\u001b[0m\u001b[0;34m(\u001b[0m\u001b[0;34m)\u001b[0m\u001b[0;34m.\u001b[0m\u001b[0m__init__\u001b[0m\u001b[0;34m(\u001b[0m\u001b[0msource\u001b[0m\u001b[0;34m,\u001b[0m \u001b[0mmode\u001b[0m\u001b[0;34m=\u001b[0m\u001b[0;34m\"t\"\u001b[0m\u001b[0;34m,\u001b[0m \u001b[0mfmt\u001b[0m\u001b[0;34m=\u001b[0m\u001b[0;34m\"GenBank\"\u001b[0m\u001b[0;34m)\u001b[0m\u001b[0;34m\u001b[0m\u001b[0;34m\u001b[0m\u001b[0m\n\u001b[0m\u001b[1;32m     94\u001b[0m \u001b[0;34m\u001b[0m\u001b[0m\n\u001b[1;32m     95\u001b[0m     \u001b[0;32mdef\u001b[0m \u001b[0mparse\u001b[0m\u001b[0;34m(\u001b[0m\u001b[0mself\u001b[0m\u001b[0;34m,\u001b[0m \u001b[0mhandle\u001b[0m\u001b[0;34m)\u001b[0m\u001b[0;34m:\u001b[0m\u001b[0;34m\u001b[0m\u001b[0;34m\u001b[0m\u001b[0m\n",
            "\u001b[0;32m/usr/local/lib/python3.7/dist-packages/Bio/SeqIO/Interfaces.py\u001b[0m in \u001b[0;36m__init__\u001b[0;34m(self, source, alphabet, mode, fmt)\u001b[0m\n\u001b[1;32m     45\u001b[0m             \u001b[0;32mraise\u001b[0m \u001b[0mValueError\u001b[0m\u001b[0;34m(\u001b[0m\u001b[0;34m\"The alphabet argument is no longer supported\"\u001b[0m\u001b[0;34m)\u001b[0m\u001b[0;34m\u001b[0m\u001b[0;34m\u001b[0m\u001b[0m\n\u001b[1;32m     46\u001b[0m         \u001b[0;32mtry\u001b[0m\u001b[0;34m:\u001b[0m\u001b[0;34m\u001b[0m\u001b[0;34m\u001b[0m\u001b[0m\n\u001b[0;32m---> 47\u001b[0;31m             \u001b[0mself\u001b[0m\u001b[0;34m.\u001b[0m\u001b[0mstream\u001b[0m \u001b[0;34m=\u001b[0m \u001b[0mopen\u001b[0m\u001b[0;34m(\u001b[0m\u001b[0msource\u001b[0m\u001b[0;34m,\u001b[0m \u001b[0;34m\"r\"\u001b[0m \u001b[0;34m+\u001b[0m \u001b[0mmode\u001b[0m\u001b[0;34m)\u001b[0m\u001b[0;34m\u001b[0m\u001b[0;34m\u001b[0m\u001b[0m\n\u001b[0m\u001b[1;32m     48\u001b[0m             \u001b[0mself\u001b[0m\u001b[0;34m.\u001b[0m\u001b[0mshould_close_stream\u001b[0m \u001b[0;34m=\u001b[0m \u001b[0;32mTrue\u001b[0m\u001b[0;34m\u001b[0m\u001b[0;34m\u001b[0m\u001b[0m\n\u001b[1;32m     49\u001b[0m         \u001b[0;32mexcept\u001b[0m \u001b[0mTypeError\u001b[0m\u001b[0;34m:\u001b[0m  \u001b[0;31m# not a path, assume we received a stream\u001b[0m\u001b[0;34m\u001b[0m\u001b[0;34m\u001b[0m\u001b[0m\n",
            "\u001b[0;31mFileNotFoundError\u001b[0m: [Errno 2] No such file or directory: '/content/sequence.gbk'"
          ]
        }
      ]
    },
    {
      "cell_type": "code",
      "metadata": {
        "id": "vEdQObD7Dk1f",
        "colab": {
          "base_uri": "https://localhost:8080/"
        },
        "outputId": "571f3d04-0feb-4a49-9804-8b8f8449c9e5"
      },
      "source": [
        "from Bio import SeqIO\n",
        "record_iterator = SeqIO.parse(\"/content/GCF_000146045.2_R64_genomic.gbff\", \"genbank\")\n",
        "first_record = next(record_iterator)\n",
        "print(first_record.id)\n",
        "print(first_record.description)"
      ],
      "execution_count": 4,
      "outputs": [
        {
          "output_type": "stream",
          "text": [
            "NC_001133.9\n",
            "Saccharomyces cerevisiae S288C chromosome I, complete sequence\n"
          ],
          "name": "stdout"
        }
      ]
    },
    {
      "cell_type": "code",
      "metadata": {
        "id": "bs9nbpwyEYrh",
        "colab": {
          "base_uri": "https://localhost:8080/"
        },
        "outputId": "3467e22f-f273-4631-a302-8b86d9e115aa"
      },
      "source": [
        "second_record = next(record_iterator)\n",
        "print(second_record.id)\n",
        "print(second_record.description)"
      ],
      "execution_count": 5,
      "outputs": [
        {
          "output_type": "stream",
          "text": [
            "NC_001134.8\n",
            "Saccharomyces cerevisiae S288C chromosome II, complete sequence\n"
          ],
          "name": "stdout"
        }
      ]
    },
    {
      "cell_type": "code",
      "metadata": {
        "id": "fcTy4z71sH3a",
        "colab": {
          "base_uri": "https://localhost:8080/"
        },
        "outputId": "941367ab-19fc-45c9-ac29-cda149b07c14"
      },
      "source": [
        "#Turn the \"record iterator\" into a list of SeqRecord objects using list()\n",
        "records = list(SeqIO.parse(\"/content/GCF_000146045.2_R64_genomic.gbff\", \"genbank\"))\n",
        "print(\"Found %i records\" %len(records))\n",
        "\n",
        "print(\"The last record\")\n",
        "last_record = records[-1]\n",
        "print(last_record.id)\n",
        "print(repr(last_record.seq))\n",
        "print(len(last_record))\n",
        "\n",
        "print(\"the first record\")\n",
        "first_record = records[0]\n",
        "print(first_record.id)\n",
        "print(repr(first_record.seq))\n",
        "print(len(first_record))"
      ],
      "execution_count": 6,
      "outputs": [
        {
          "output_type": "stream",
          "text": [
            "Found 9 records\n",
            "The last record\n",
            "NC_001141.2\n",
            "Seq('CACACACACCACACCCACACCACACCACACCACACCCACACCCACACACACCAC...GCC')\n",
            "388089\n",
            "the first record\n",
            "NC_001133.9\n",
            "Seq('CCACACCACACCCACACACCCACACACCACACCACACACCACACCACACCCACA...GGG')\n",
            "230218\n"
          ],
          "name": "stdout"
        },
        {
          "output_type": "stream",
          "text": [
            "/usr/local/lib/python3.7/dist-packages/Bio/GenBank/Scanner.py:1220: BiopythonParserWarning: Premature end of file in sequence data\n",
            "  \"Premature end of file in sequence data\", BiopythonParserWarning\n",
            "/usr/local/lib/python3.7/dist-packages/Bio/GenBank/__init__.py:1380: BiopythonParserWarning: Expected sequence length 439888, found 388089 (NC_001141.2).\n",
            "  BiopythonParserWarning,\n"
          ],
          "name": "stderr"
        }
      ]
    },
    {
      "cell_type": "markdown",
      "metadata": {
        "id": "-pOywGyrvqVG"
      },
      "source": [
        "#Extracting data from your files(genbank format)\n",
        "    - seq_record.annotations.keys()\n",
        "    - seq_record.annotations.values()\n",
        "    - seq_record.annotations['source']\n",
        "    - seq_record.annotations['organism']\n"
      ]
    },
    {
      "cell_type": "code",
      "metadata": {
        "colab": {
          "base_uri": "https://localhost:8080/"
        },
        "id": "qjymOoZxwKQQ",
        "outputId": "84f4f745-874a-47c1-998d-60be9963af1e"
      },
      "source": [
        "record_iterator = SeqIO.parse(\"/content/GCF_000146045.2_R64_genomic.gbff\", \"genbank\")\n",
        "first_record = next(record_iterator)\n",
        "print(first_record)\n",
        "print(\"******************************************\")\n",
        "print(first_record.annotations.keys())\n",
        "print(\"******************************************\")\n",
        "print(first_record.annotations.values())\n",
        "print(\"******************************************\")\n",
        "print(first_record.annotations['source'])\n",
        "print(\"******************************************\")\n",
        "\n",
        "print(first_record.annotations['organism'])"
      ],
      "execution_count": 7,
      "outputs": [
        {
          "output_type": "stream",
          "text": [
            "ID: NC_001133.9\n",
            "Name: NC_001133\n",
            "Description: Saccharomyces cerevisiae S288C chromosome I, complete sequence\n",
            "Database cross-references: BioProject:PRJNA128, Assembly:GCF_000146045.2\n",
            "Number of features: 324\n",
            "/molecule_type=DNA\n",
            "/topology=linear\n",
            "/data_file_division=CON\n",
            "/date=15-MAY-2020\n",
            "/accessions=['NC_001133']\n",
            "/sequence_version=9\n",
            "/keywords=['RefSeq']\n",
            "/source=Saccharomyces cerevisiae S288C\n",
            "/organism=Saccharomyces cerevisiae S288C\n",
            "/taxonomy=['Eukaryota', 'Fungi', 'Dikarya', 'Ascomycota', 'Saccharomycotina', 'Saccharomycetes', 'Saccharomycetales', 'Saccharomycetaceae', 'Saccharomyces']\n",
            "/references=[Reference(title='Life with 6000 genes', ...), Reference(title='The nucleotide sequence of chromosome I from Saccharomyces cerevisiae', ...), Reference(title='Direct Submission', ...), Reference(title='Direct Submission', ...), Reference(title='Direct Submission', ...)]\n",
            "/comment=REVIEWED REFSEQ: This record has been curated by SGD. The reference\n",
            "sequence is identical to BK006935.\n",
            "On Apr 26, 2011 this sequence version replaced NC_001133.8.\n",
            "COMPLETENESS: full length.\n",
            "/structured_comment=OrderedDict([('Genome-Annotation-Data', OrderedDict([('Annotation Provider', 'SGD'), ('Annotation Status', 'Full Annotation'), ('Annotation Version', 'R64-2-1'), ('URL', 'http://www.yeastgenome.org/')]))])\n",
            "/contig=join(BK006935.2:1..230218)\n",
            "Seq('CCACACCACACCCACACACCCACACACCACACCACACACCACACCACACCCACA...GGG')\n",
            "******************************************\n",
            "dict_keys(['molecule_type', 'topology', 'data_file_division', 'date', 'accessions', 'sequence_version', 'keywords', 'source', 'organism', 'taxonomy', 'references', 'comment', 'structured_comment', 'contig'])\n",
            "******************************************\n",
            "dict_values(['DNA', 'linear', 'CON', '15-MAY-2020', ['NC_001133'], 9, ['RefSeq'], 'Saccharomyces cerevisiae S288C', 'Saccharomyces cerevisiae S288C', ['Eukaryota', 'Fungi', 'Dikarya', 'Ascomycota', 'Saccharomycotina', 'Saccharomycetes', 'Saccharomycetales', 'Saccharomycetaceae', 'Saccharomyces'], [Reference(title='Life with 6000 genes', ...), Reference(title='The nucleotide sequence of chromosome I from Saccharomyces cerevisiae', ...), Reference(title='Direct Submission', ...), Reference(title='Direct Submission', ...), Reference(title='Direct Submission', ...)], 'REVIEWED REFSEQ: This record has been curated by SGD. The reference\\nsequence is identical to BK006935.\\nOn Apr 26, 2011 this sequence version replaced NC_001133.8.\\nCOMPLETENESS: full length.', OrderedDict([('Genome-Annotation-Data', OrderedDict([('Annotation Provider', 'SGD'), ('Annotation Status', 'Full Annotation'), ('Annotation Version', 'R64-2-1'), ('URL', 'http://www.yeastgenome.org/')]))]), 'join(BK006935.2:1..230218)'])\n",
            "******************************************\n",
            "Saccharomyces cerevisiae S288C\n",
            "******************************************\n",
            "Saccharomyces cerevisiae S288C\n"
          ],
          "name": "stdout"
        }
      ]
    },
    {
      "cell_type": "code",
      "metadata": {
        "colab": {
          "base_uri": "https://localhost:8080/"
        },
        "id": "cihBE20Hzu6N",
        "outputId": "9a8c6dd6-316b-4f96-acd3-97e7fb2622ca"
      },
      "source": [
        "all_species = []\n",
        "for seq_record in SeqIO.parse('/content/GCF_000146045.2_R64_genomic.gbff', 'genbank'):\n",
        "    all_species.append(seq_record.annotations['organism'])\n",
        "print(all_species)"
      ],
      "execution_count": 13,
      "outputs": [
        {
          "output_type": "stream",
          "text": [
            "['Saccharomyces cerevisiae S288C', 'Saccharomyces cerevisiae S288C']\n"
          ],
          "name": "stdout"
        },
        {
          "output_type": "stream",
          "text": [
            "/usr/local/lib/python3.7/dist-packages/Bio/GenBank/Scanner.py:1220: BiopythonParserWarning: Premature end of file in sequence data\n",
            "  \"Premature end of file in sequence data\", BiopythonParserWarning\n",
            "/usr/local/lib/python3.7/dist-packages/Bio/GenBank/__init__.py:1380: BiopythonParserWarning: Expected sequence length 813184, found 254907 (NC_001134.8).\n",
            "  BiopythonParserWarning,\n"
          ],
          "name": "stderr"
        }
      ]
    },
    {
      "cell_type": "markdown",
      "metadata": {
        "id": "8zc5eXhxzIyG"
      },
      "source": [
        "#extracting data from fasta format files\n",
        "    -seq_record.description.split()[*]"
      ]
    },
    {
      "cell_type": "code",
      "metadata": {
        "id": "vOmCjoZRzTRs"
      },
      "source": [
        "all_species = [seq_record.description.split()[1] for seq_record in SeqIO.parse(\"yeast.fasta\", \"fasta\")]\n",
        "print(all_species)\n",
        "#위의 코드와 대상이 동일하면 결과도 동일해야함...\n"
      ],
      "execution_count": null,
      "outputs": []
    }
  ]
}