{
  "nbformat": 4,
  "nbformat_minor": 0,
  "metadata": {
    "colab": {
      "name": "바데실_4월_8일.ipynb",
      "provenance": [],
      "collapsed_sections": [],
      "authorship_tag": "ABX9TyPVwD38h6+d+AqkZhsg+Sjh",
      "include_colab_link": true
    },
    "kernelspec": {
      "name": "python3",
      "display_name": "Python 3"
    }
  },
  "cells": [
    {
      "cell_type": "markdown",
      "metadata": {
        "id": "view-in-github",
        "colab_type": "text"
      },
      "source": [
        "<a href=\"https://colab.research.google.com/github/Tonge-Shim/biodata/blob/main/%EB%B0%94%EB%8D%B0%EC%8B%A4_4%EC%9B%94_8%EC%9D%BC.ipynb\" target=\"_parent\"><img src=\"https://colab.research.google.com/assets/colab-badge.svg\" alt=\"Open In Colab\"/></a>"
      ]
    },
    {
      "cell_type": "markdown",
      "metadata": {
        "id": "XqkrSjdMBviB"
      },
      "source": [
        "#SeqIO 모듈\n",
        "- 파일의 속성 바꾸기\n"
      ]
    },
    {
      "cell_type": "code",
      "metadata": {
        "id": "mVqHTdmPBITn",
        "colab": {
          "base_uri": "https://localhost:8080/"
        },
        "outputId": "f9f3276c-f6e7-4903-c606-fc334cc2e330"
      },
      "source": [
        "pip install biopython"
      ],
      "execution_count": null,
      "outputs": [
        {
          "output_type": "stream",
          "text": [
            "Collecting biopython\n",
            "\u001b[?25l  Downloading https://files.pythonhosted.org/packages/3a/cd/0098eaff841850c01da928c7f509b72fd3e1f51d77b772e24de9e2312471/biopython-1.78-cp37-cp37m-manylinux1_x86_64.whl (2.3MB)\n",
            "\u001b[K     |████████████████████████████████| 2.3MB 5.8MB/s \n",
            "\u001b[?25hRequirement already satisfied: numpy in /usr/local/lib/python3.7/dist-packages (from biopython) (1.19.5)\n",
            "Installing collected packages: biopython\n",
            "Successfully installed biopython-1.78\n"
          ],
          "name": "stdout"
        }
      ]
    },
    {
      "cell_type": "code",
      "metadata": {
        "colab": {
          "base_uri": "https://localhost:8080/"
        },
        "id": "iyi4q6XEEllx",
        "outputId": "486ff8bd-450b-46c1-94f0-e15a46b8d2f0"
      },
      "source": [
        "from Bio import SeqIO\n",
        "record_iterator = SeqIO.parse(\"ls_orchid.fasta\", \"fasta\")\n",
        "first_record = next(record_iterator)\n",
        "first_record.id\n",
        "print(first_record)\n",
        "first_record.id = \"new_id\"\n",
        "first_record.id = first_record.id + \" \" + \"desired new description\"\n",
        "print(first_record.format(\"fasta\")[:200])"
      ],
      "execution_count": null,
      "outputs": [
        {
          "output_type": "stream",
          "text": [
            "ID: gi|2765658|emb|Z78533.1|CIZ78533\n",
            "Name: gi|2765658|emb|Z78533.1|CIZ78533\n",
            "Description: gi|2765658|emb|Z78533.1|CIZ78533 C.irapeanum 5.8S rRNA gene and ITS1 and ITS2 DNA\n",
            "Number of features: 0\n",
            "Seq('CGTAACAAGGTTTCCGTAGGTGAACCTGCGGAAGGATCATTGATGAGACCGTGG...CGC')\n",
            ">new_id desired new description gi|2765658|emb|Z78533.1|CIZ78533 C.irapeanum 5.8S rRNA gene and ITS1 and ITS2 DNA\n",
            "CGTAACAAGGTTTCCGTAGGTGAACCTGCGGAAGGATCATTGATGAGACCGTGGAATAAA\n",
            "CGATCGAGTGAATCCGGAGGACCGG\n"
          ],
          "name": "stdout"
        }
      ]
    },
    {
      "cell_type": "code",
      "metadata": {
        "colab": {
          "base_uri": "https://localhost:8080/"
        },
        "id": "pznY_JXzHk0R",
        "outputId": "4e1e7e6d-21d1-409a-9acc-a5ed18030056"
      },
      "source": [
        "handle = open(\"ls_orchid.gbk\")\n",
        "print(sum(len(r) for r in SeqIO.parse(handle, \"gb\")))\n",
        "handle.close()"
      ],
      "execution_count": null,
      "outputs": [
        {
          "output_type": "stream",
          "text": [
            "67518\n"
          ],
          "name": "stdout"
        }
      ]
    },
    {
      "cell_type": "code",
      "metadata": {
        "colab": {
          "base_uri": "https://localhost:8080/"
        },
        "id": "U71-EoZcJZye",
        "outputId": "2a576084-f299-4055-cb48-831e4ee7bf5f"
      },
      "source": [
        "print(sum(len(r) for r in SeqIO.parse(\"ls_orchid.gbk\", \"gb\")))\n",
        "with open(\"ls_orchid.gbk\") as handle:\n",
        "    print(sum(len(r) for r in SeqIO.parse(handle, \"gb\")))\n",
        "\n",
        "#결론: 다 같은 말이다~~"
      ],
      "execution_count": null,
      "outputs": [
        {
          "output_type": "stream",
          "text": [
            "67518\n",
            "67518\n"
          ],
          "name": "stdout"
        }
      ]
    },
    {
      "cell_type": "markdown",
      "metadata": {
        "id": "ZtSHYRpAKYEa"
      },
      "source": [
        "#인터넷을 통한 파일 읽기\n",
        "* Entrex모듈을 활용하여 인터넷상의 데이터를 받아와 SeqIO모듈로 읽음.\n",
        "*2주차쯤에 했었다~~"
      ]
    },
    {
      "cell_type": "code",
      "metadata": {
        "colab": {
          "base_uri": "https://localhost:8080/"
        },
        "id": "G1Mt7XmuJy2y",
        "outputId": "d2fe7743-fd85-4b17-9dd5-b93da4538536"
      },
      "source": [
        "from Bio import Entrez\n",
        " \n",
        "Entrez.email = \"A.N.Other@example.com\"\n",
        "with Entrez.efetch(db = \"nucleotide\", rettype = \"gb\", retmode = \"text\", id = \"6273291 , 6273290, 6273289\") as handle:\n",
        "    for seq_record in SeqIO.parse(handle, \"gb\"):\n",
        "        print(\"%s%s...\" % (seq_record.id, seq_record.description[:50]))\n",
        "        print(\"Sequence length %i, %i features, from: %s\" %( len(seq_record), \n",
        "                                                             len(seq_record.features), \n",
        "                                                             seq_record.annotations[\"source\"]))\n",
        " \n"
      ],
      "execution_count": null,
      "outputs": [
        {
          "output_type": "stream",
          "text": [
            "AF191665.1Opuntia marenae rpl16 gene; chloroplast gene for c...\n",
            "Sequence length 902, 3 features, from: chloroplast Grusonia marenae\n",
            "AF191664.1Opuntia clavata rpl16 gene; chloroplast gene for c...\n",
            "Sequence length 899, 3 features, from: chloroplast Grusonia clavata\n",
            "AF191663.1Opuntia bradtiana rpl16 gene; chloroplast gene for...\n",
            "Sequence length 899, 3 features, from: chloroplast Grusonia bradtiana\n"
          ],
          "name": "stdout"
        }
      ]
    },
    {
      "cell_type": "code",
      "metadata": {
        "id": "WZd70w-UM8VF"
      },
      "source": [
        "#Entrez.email = \"tonge20@naver.com\" #이거 필요 없는데...?\n",
        "handle = Entrez.efetch(db = \"nucleotide\", rettype=\"gb\", retmode = \"text\", id=\"AY463215\")\n",
        "for s in handle:\n",
        "    print(s.strip())"
      ],
      "execution_count": null,
      "outputs": []
    },
    {
      "cell_type": "code",
      "metadata": {
        "colab": {
          "base_uri": "https://localhost:8080/"
        },
        "id": "hp21tY8ePlUh",
        "outputId": "5c902790-dbba-4795-e657-7915e727836e"
      },
      "source": [
        "with Entrez.efetch(\n",
        "    db = \"nucleotide\", rettype=\"fasta\", retmode = \"text\", id = \"42540826\") as handle:\n",
        "    seq_record = SeqIO.read(handle, \"fasta\")\n",
        "print(\"%s with %d length\" %(seq_record, len(seq_record)))\n",
        "\n",
        "print(\"\\n\")\n",
        "########################\n",
        "handle = Entrez.efetch(\n",
        "    db = \"nucleotide\", rettype=\"fasta\", retmode = \"text\", id = \"42540826\")\n",
        "for s in handle:\n",
        "    print(s.strip())\n",
        " \n"
      ],
      "execution_count": null,
      "outputs": [
        {
          "output_type": "stream",
          "text": [
            "ID: AY463215.1\n",
            "Name: AY463215.1\n",
            "Description: AY463215.1 Homo sapiens CCR5 chemokine receptor (CCR5) gene, complete cds\n",
            "Number of features: 0\n",
            "Seq('ATGGATTATCAAGTGTCAAGTCCAATCTATGACATCAATTATTATACATCGGAG...TGA') with 1059 length\n",
            "\n",
            "\n",
            ">AY463215.1 Homo sapiens CCR5 chemokine receptor (CCR5) gene, complete cds\n",
            "ATGGATTATCAAGTGTCAAGTCCAATCTATGACATCAATTATTATACATCGGAGCCCTGCCAAAAAATCA\n",
            "ATGTGAAGCAAATCGCAGCCCGCCTCCTGCCTCCGCTCTACTCACTGGTGTTCATCTTTGGTTTTGTGGG\n",
            "CAACATGCTGGTCATCCTCATCCTGATAAACTGCAAAAGGCTGAAGAGCATGACTGACATCTACCTGCTC\n",
            "AACCTGGCCATCTCTGACCTGTTTTTCCTTCTTACTGTCCCCTTCTGGGCTCACTATGCTGCCGCCCAGT\n",
            "GGGACTTTGGAAATACAATGTGTCAACTCTTGACAGGGCTCTATTTTATAGGCTTCTTCTCTGGAATCTT\n",
            "CTTCATCATCCTCCTGACAATCGATAGGTACCTGGCTGTCGTCCATGCTGTGTTTGCTTTAAAAGCCAGG\n",
            "ACGGTCACCTTTGGGGTGGTGACAAGTGTGATCACTTGGGTGGTGGCTGTGTTTGCGTCTCTCCCAGGAA\n",
            "TCATCTTTACCAGATCTCAAAAAGAAGGTCTTCATTACACCTGCAGCTCTCATTTTCCATACAGTCAGTA\n",
            "TCAATTCTGGAAGAATTTCCAGACATTAAAGATAGTCATCTTGGGGCTGGTCCTGCCGCTGCTTGTCATG\n",
            "GTCATCTGCTACTCGGGAATCCTAAAAACTCTGCTTCGGTGTCGAAATGAGAAGAAGAGGCACAGGGCTG\n",
            "TGAGGCTTATCTTCACCATCATGATTGTTTATTTTCTCTTCTGGGCTCCCTACAACACTGTCCTTCTCCT\n",
            "GAACACCTTCCAGGAATTCTTTGGCCTGAATAATTGCAGTAGCTCTAACAGGTTGGACCAAGCTATGCAG\n",
            "GTGACAGAGACTCTTGGGATGACGCACTGCTGCATCAACCCCATCATCTATGCCTTTGTCGGGGAGAAGT\n",
            "TCAGAAACTACCTCTTAGTCTTCTTCCAAAAGCACATTGCCAAACGCTTCTGCAAATGCTGTTCTATTTT\n",
            "CCAGCAAGAGGCTCCCGAGCGAGCAAGCTCAGTTTACACCCGATCCACTGGGGAGCAGGAAATATCTGTG\n",
            "GGCTTGTGA\n",
            "\n"
          ],
          "name": "stdout"
        }
      ]
    },
    {
      "cell_type": "markdown",
      "metadata": {
        "id": "KHZq3iB8Mwb_"
      },
      "source": [
        "#FASTQ format file reading\n",
        "* fastq file은 @로 시작한다...>가 아니라...아스키코드로...뭐뭐뭐..."
      ]
    },
    {
      "cell_type": "code",
      "metadata": {
        "id": "r4LapdOcM0Uc"
      },
      "source": [
        "from Bio.SeqIO.QualityIO import FastqGeneralIterator\n",
        "count = 0\n",
        "total_len=0\n",
        "with open(\"SRR020192.fastq\") as in_handle:\n",
        "    for title, seq, qual in FastqGeneraliterator(in_handle):\n",
        "        count+=1\n",
        "        total_len += len(seq)\n",
        "\n",
        "print(\"%i records with total sequence length %i\" %(count, total_len))"
      ],
      "execution_count": null,
      "outputs": []
    },
    {
      "cell_type": "code",
      "metadata": {
        "id": "6EIj8_TXSXRF"
      },
      "source": [
        "seq_record = SeqIO.parse(\"sample0.fastq\", \"fastq\")\n",
        "print(type(seq_record))\n",
        "for s in seq_record:\n",
        "    print(type(s))\n",
        "    print(s)\n",
        "    print(\"\")"
      ],
      "execution_count": null,
      "outputs": []
    },
    {
      "cell_type": "markdown",
      "metadata": {
        "id": "p1lAVA4hTuPS"
      },
      "source": [
        "#Sequence file **write**\n",
        "    Bio.SeqIO.write() for sequence output\n",
        "\n",
        "*코드는 수업 참조...\n"
      ]
    },
    {
      "cell_type": "code",
      "metadata": {
        "id": "f7jRUVyzSoQM"
      },
      "source": [
        "from Bio.Seq import Seq\n",
        "from Bio.SeqRecord import SeqRecord\n",
        "from Bio import SeqIO\n"
      ],
      "execution_count": null,
      "outputs": []
    },
    {
      "cell_type": "code",
      "metadata": {
        "id": "yLlwedaWT3vg"
      },
      "source": [
        ""
      ],
      "execution_count": null,
      "outputs": []
    }
  ]
}